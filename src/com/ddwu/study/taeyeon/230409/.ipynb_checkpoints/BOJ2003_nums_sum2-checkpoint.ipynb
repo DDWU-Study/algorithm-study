{
 "cells": [
  {
   "cell_type": "code",
   "execution_count": 6,
   "id": "cf0eb91c",
   "metadata": {},
   "outputs": [
    {
     "name": "stdout",
     "output_type": "stream",
     "text": [
      "4 2\n",
      "1 1 1 1\n"
     ]
    }
   ],
   "source": [
    "N, M = map(int, input().split())\n",
    "data = list(map(int, input().split()))\n",
    "\n",
    "# from sys import stdin\n",
    "# N, M = map(int, stdin.readline().split())\n",
    "# data = list(map(int, stdin.readline().split()))"
   ]
  },
  {
   "cell_type": "code",
   "execution_count": 8,
   "id": "0a14c75a",
   "metadata": {},
   "outputs": [
    {
     "name": "stdout",
     "output_type": "stream",
     "text": [
      "3\n"
     ]
    }
   ],
   "source": [
    "cnt = 0\n",
    "interval_sum = 0\n",
    "end = 0\n",
    "\n",
    "for start in range(N):\n",
    "    while interval_sum < M and end < N:\n",
    "        interval_sum += data[end]\n",
    "        end += 1\n",
    "        \n",
    "    if interval_sum == M:\n",
    "        cnt += 1\n",
    "    interval_sum -= data[start]\n",
    "    \n",
    "print(cnt)"
   ]
  }
 ],
 "metadata": {
  "kernelspec": {
   "display_name": "Python 3 (ipykernel)",
   "language": "python",
   "name": "python3"
  },
  "language_info": {
   "codemirror_mode": {
    "name": "ipython",
    "version": 3
   },
   "file_extension": ".py",
   "mimetype": "text/x-python",
   "name": "python",
   "nbconvert_exporter": "python",
   "pygments_lexer": "ipython3",
   "version": "3.10.6"
  }
 },
 "nbformat": 4,
 "nbformat_minor": 5
}
