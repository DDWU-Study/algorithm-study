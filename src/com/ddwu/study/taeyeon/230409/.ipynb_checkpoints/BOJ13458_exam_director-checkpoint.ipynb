{
 "cells": [
  {
   "cell_type": "code",
   "execution_count": 42,
   "id": "a871fd5f",
   "metadata": {},
   "outputs": [
    {
     "name": "stdout",
     "output_type": "stream",
     "text": [
      "0\n",
      "0\n",
      "0 0\n"
     ]
    }
   ],
   "source": [
    "N = int(input())\n",
    "A_list = list(map(int,(input().split())))\n",
    "B, C = map(int, input().split())\n",
    "\n",
    "# from sys import stdin\n",
    "# N = map(int, stdin.readline())\n",
    "# A_list = list(map(int, stdin.readline().split()))\n",
    "# B, C = map(int, stdin.readline().split())"
   ]
  },
  {
   "cell_type": "code",
   "execution_count": 43,
   "id": "37a71668",
   "metadata": {},
   "outputs": [],
   "source": [
    "import math\n",
    "\n",
    "def solution(N, A_list, B, C):\n",
    "    K_list = [0 for i in range(N)]\n",
    "\n",
    "    for i in range(N):\n",
    "        K_list[i] = math.ceil((A_list[i] - B) / C)\n",
    "        \n",
    "#     print(K_list)\n",
    "    print(sum(K_list)+N)"
   ]
  },
  {
   "cell_type": "code",
   "execution_count": 39,
   "id": "45ca3ffe",
   "metadata": {},
   "outputs": [
    {
     "name": "stdout",
     "output_type": "stream",
     "text": [
      "7\n"
     ]
    }
   ],
   "source": [
    "solution(3, [3,4,5], 2, 2)"
   ]
  },
  {
   "cell_type": "code",
   "execution_count": 40,
   "id": "435f20ea",
   "metadata": {},
   "outputs": [
    {
     "name": "stdout",
     "output_type": "stream",
     "text": [
      "1\n"
     ]
    }
   ],
   "source": [
    "solution(1, [1, 1], 1, 1)"
   ]
  },
  {
   "cell_type": "code",
   "execution_count": 41,
   "id": "2cc5b900",
   "metadata": {},
   "outputs": [
    {
     "name": "stdout",
     "output_type": "stream",
     "text": [
      "714290\n"
     ]
    }
   ],
   "source": [
    "solution(5, [1000000,1000000,1000000,1000000,1000000], 5, 7)"
   ]
  },
  {
   "cell_type": "code",
   "execution_count": 44,
   "id": "cb74ada6",
   "metadata": {},
   "outputs": [
    {
     "name": "stdout",
     "output_type": "stream",
     "text": [
      "0\n"
     ]
    }
   ],
   "source": [
    "solution(0, [0], 0, 0)"
   ]
  },
  {
   "cell_type": "code",
   "execution_count": null,
   "id": "edb60c94",
   "metadata": {},
   "outputs": [],
   "source": []
  },
  {
   "cell_type": "code",
   "execution_count": 47,
   "id": "36ca21af",
   "metadata": {},
   "outputs": [],
   "source": [
    "import math\n",
    "\n",
    "def solution2():\n",
    "    result = 0\n",
    "    \n",
    "    global N, A_list, B, C\n",
    "\n",
    "    for i in range(N):\n",
    "        if A_list[i] > 0:\n",
    "            A_list[i] -= B\n",
    "            result += 1\n",
    "        if A_list[i] > 0:\n",
    "            result += math.ceil(A_llist[i] / C)\n",
    "            \n",
    "    print(result)"
   ]
  }
 ],
 "metadata": {
  "kernelspec": {
   "display_name": "Python 3 (ipykernel)",
   "language": "python",
   "name": "python3"
  },
  "language_info": {
   "codemirror_mode": {
    "name": "ipython",
    "version": 3
   },
   "file_extension": ".py",
   "mimetype": "text/x-python",
   "name": "python",
   "nbconvert_exporter": "python",
   "pygments_lexer": "ipython3",
   "version": "3.10.6"
  }
 },
 "nbformat": 4,
 "nbformat_minor": 5
}
