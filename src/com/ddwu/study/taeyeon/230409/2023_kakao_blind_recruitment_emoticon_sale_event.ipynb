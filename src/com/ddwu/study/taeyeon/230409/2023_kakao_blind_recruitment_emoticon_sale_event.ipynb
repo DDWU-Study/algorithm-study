{
 "cells": [
  {
   "cell_type": "code",
   "execution_count": null,
   "id": "126fcf78",
   "metadata": {},
   "outputs": [],
   "source": [
    "def solution(users, emoticons):\n",
    "    answer = [0, 0]\n",
    "    data = [10 ,20, 30, 40]\n",
    "    discount = []\n",
    "    \n",
    "    # 이모티콘 할인율 구하기\n",
    "    def dfs(temp, depth):\n",
    "        if depth == len(temp):\n",
    "            discount.append(temp[:])\n",
    "            return\n",
    "        for d in data:\n",
    "            temp[depth] += d\n",
    "            dfs(temp, depth + 1)\n",
    "            temp[depth] -= d\n",
    "    \n",
    "    dfs([0] * len(emoticons), 0)\n",
    "    \n",
    "    # 완전탐색\n",
    "    for d in range(len(discount)):\n",
    "        join, price = 0, [0] * len(users)\n",
    "        for e in range(len(emoticons)):\n",
    "            for u in range(len(users)):\n",
    "                # 할인율을 만족하면 구매\n",
    "                if users[u][0] <= discount[d][e]:\n",
    "                    price[u] += emoticons[e] * (100 - discount[d][e]) / 100\n",
    "        \n",
    "        # 구매 금액에 따라 가입자 갱신\n",
    "        for u in range(len(users)):\n",
    "            if price[u] >= users[u][1]:\n",
    "                join += 1\n",
    "                price[u] = 0\n",
    "        \n",
    "        # 최대 가입자, 구매 금액 갱신\n",
    "        if join >= answer[0]:\n",
    "            if join == answer[0]:\n",
    "                answer[1] = max(answer[1], sum(price))\n",
    "            else:\n",
    "                answer[1] = sum(price)\n",
    "            answer[0] = join\n",
    "    \n",
    "    \n",
    "    return answer"
   ]
  }
 ],
 "metadata": {
  "kernelspec": {
   "display_name": "Python 3 (ipykernel)",
   "language": "python",
   "name": "python3"
  },
  "language_info": {
   "codemirror_mode": {
    "name": "ipython",
    "version": 3
   },
   "file_extension": ".py",
   "mimetype": "text/x-python",
   "name": "python",
   "nbconvert_exporter": "python",
   "pygments_lexer": "ipython3",
   "version": "3.10.6"
  }
 },
 "nbformat": 4,
 "nbformat_minor": 5
}
