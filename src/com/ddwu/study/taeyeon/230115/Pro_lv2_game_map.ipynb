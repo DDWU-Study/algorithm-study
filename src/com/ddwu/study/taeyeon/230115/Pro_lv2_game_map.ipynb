{
 "cells": [
  {
   "cell_type": "code",
   "execution_count": 11,
   "id": "b47a41aa",
   "metadata": {},
   "outputs": [],
   "source": [
    "from collections import deque\n",
    "\n",
    "def solution(maps):\n",
    "    n, m = len(maps), len(maps[0])\n",
    "    dx, dy = [1, -1, 0, 0], [0, 0, 1, -1]\n",
    "    visited = [[0 for _ in range(m)] for _ in range(n)]\n",
    "    visited[0][0] = 1\n",
    "    queue = deque([(0, 0)])\n",
    "    cnt = 0\n",
    "    while queue:\n",
    "        x, y = queue.popleft()\n",
    "        if x == n-1 and y == m-1:\n",
    "            return visited[x][y]\n",
    "        for i in range(4):\n",
    "            nx, ny = x+dx[i], y+dy[i]\n",
    "            if 0 <= nx < n and 0 <= ny < m and visited[nx][ny] == 0 and maps[x][y] == 1:\n",
    "                visited[nx][ny] = visited[x][y]+1\n",
    "                queue.append((nx, ny))\n",
    "    return -1"
   ]
  },
  {
   "cell_type": "code",
   "execution_count": 12,
   "id": "8cfca86e",
   "metadata": {},
   "outputs": [
    {
     "name": "stdout",
     "output_type": "stream",
     "text": [
      "11\n"
     ]
    }
   ],
   "source": [
    "print(solution([[1,0,1,1,1],[1,0,1,0,1],[1,0,1,1,1],[1,1,1,0,1],[0,0,0,0,1]]))"
   ]
  },
  {
   "cell_type": "code",
   "execution_count": 13,
   "id": "38b7e3d1",
   "metadata": {},
   "outputs": [
    {
     "name": "stdout",
     "output_type": "stream",
     "text": [
      "-1\n"
     ]
    }
   ],
   "source": [
    "print(solution([[1,0,1,1,1],[1,0,1,0,1],[1,0,1,1,1],[1,1,1,0,0],[0,0,0,0,1]]))"
   ]
  },
  {
   "cell_type": "code",
   "execution_count": 14,
   "id": "8ba920e1",
   "metadata": {},
   "outputs": [],
   "source": [
    "from collections import deque\n",
    "def solution(maps):\n",
    "    answer = 0\n",
    "\n",
    "    # 상하좌우\n",
    "    dx = [-1, 1, 0, 0]\n",
    "    dy = [0, 0, -1, 1]\n",
    "    \n",
    "    def bfs(x, y):\n",
    "        queue = deque()\n",
    "        queue.append((x, y))\n",
    "\n",
    "        # queue가 빌 때까지 반복\n",
    "        while queue:\n",
    "            x, y = queue.popleft()\n",
    "\n",
    "            # 상하좌우 칸 확인하기\n",
    "            for i in range(4):\n",
    "                nx = x + dx[i]\n",
    "                ny = y + dy[i]\n",
    "\n",
    "                # 맵을 벗어나면 무시하기\n",
    "                if nx < 0 or nx >= len(maps) or ny < 0 or ny >= len(maps[0]): continue\n",
    "\n",
    "                # 벽이면 무시하기\n",
    "                if maps[nx][ny] == 0:  continue\n",
    "\n",
    "                # 처음 지나가는 길이면 거리계산하고 다시 상하좌우 확인하기\n",
    "                if maps[nx][ny] == 1:\n",
    "                    maps[nx][ny] = maps[x][y] + 1\n",
    "                    queue.append((nx, ny))    # 재귀\n",
    "                    \n",
    "        # 상대 팀 진영(제일 오른쪽 아래 칸)까지의 거리 반환\n",
    "        return maps[len(maps)-1][len(maps[0])-1]\n",
    "\n",
    "    answer = bfs(0, 0)\n",
    "    return -1 if answer == 1 else answer    # 상대 팀 진영에 도착할 수 없을 때 -1"
   ]
  },
  {
   "cell_type": "code",
   "execution_count": null,
   "id": "466de4ac",
   "metadata": {},
   "outputs": [],
   "source": []
  }
 ],
 "metadata": {
  "kernelspec": {
   "display_name": "Python 3 (ipykernel)",
   "language": "python",
   "name": "python3"
  },
  "language_info": {
   "codemirror_mode": {
    "name": "ipython",
    "version": 3
   },
   "file_extension": ".py",
   "mimetype": "text/x-python",
   "name": "python",
   "nbconvert_exporter": "python",
   "pygments_lexer": "ipython3",
   "version": "3.10.6"
  }
 },
 "nbformat": 4,
 "nbformat_minor": 5
}
