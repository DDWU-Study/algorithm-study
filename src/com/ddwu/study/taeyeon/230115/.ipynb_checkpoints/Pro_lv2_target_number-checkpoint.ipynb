{
 "cells": [
  {
   "cell_type": "code",
   "execution_count": 7,
   "id": "1c844219",
   "metadata": {},
   "outputs": [],
   "source": [
    "from collections import deque\n",
    "def solution(numbers, target):\n",
    "    answer = 0\n",
    "    queue = deque()\n",
    "    n = len(numbers)\n",
    "    \n",
    "    queue.append([numbers[0], 0])\n",
    "    queue.append([-1*numbers[0], 0])\n",
    "    \n",
    "    while queue:\n",
    "        temp, idx = queue.popleft()\n",
    "        idx += 1\n",
    "        if idx < n:\n",
    "            queue.append([temp+numbers[idx], idx])\n",
    "            queue.append([temp-numbers[idx], idx])\n",
    "        else:\n",
    "            if temp == target:\n",
    "                answer += 1\n",
    "            \n",
    "    return answer"
   ]
  },
  {
   "cell_type": "code",
   "execution_count": 8,
   "id": "c836b13b",
   "metadata": {},
   "outputs": [
    {
     "name": "stdout",
     "output_type": "stream",
     "text": [
      "5\n",
      "2\n"
     ]
    }
   ],
   "source": [
    "print(solution([1, 1, 1, 1, 1], 3))\n",
    "print(solution([4, 1, 2, 1], 4))"
   ]
  },
  {
   "cell_type": "code",
   "execution_count": null,
   "id": "f2105799",
   "metadata": {},
   "outputs": [],
   "source": []
  }
 ],
 "metadata": {
  "kernelspec": {
   "display_name": "Python 3 (ipykernel)",
   "language": "python",
   "name": "python3"
  },
  "language_info": {
   "codemirror_mode": {
    "name": "ipython",
    "version": 3
   },
   "file_extension": ".py",
   "mimetype": "text/x-python",
   "name": "python",
   "nbconvert_exporter": "python",
   "pygments_lexer": "ipython3",
   "version": "3.10.6"
  }
 },
 "nbformat": 4,
 "nbformat_minor": 5
}
