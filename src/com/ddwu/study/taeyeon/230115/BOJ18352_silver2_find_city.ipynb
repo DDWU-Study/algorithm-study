{
 "cells": [
  {
   "cell_type": "code",
   "execution_count": null,
   "id": "659cdccf",
   "metadata": {},
   "outputs": [],
   "source": [
    "from collections import deque\n",
    "\n",
    "# import sys\n",
    "# # 내장함수 input()을 사용하니 입력 시간이 길어서 그런지 시간초과가 발생\n",
    "# # input = sys.stdin.readline 으로 데이터를 받아두고 그 뒤로 input().split() 을 사용.\n",
    "# input = sys.stdin.readline \n",
    "\n",
    "# N:정점(도시) 수, M:간선(도로), K:최단거리, X:시작정점(출발도시)\n",
    "N, M, K, X = map(int, input().split())\n",
    "graph = [[] for _ in range(N+1)]\n",
    "\n",
    "# 해당 정점(a)에서 단방향으로 연결된 정점(b) 그래프(list) 생성 (인덱스 0번 사용 X)\n",
    "for _ in range(M):\n",
    "    a, b = map(int, input().split())\n",
    "    graph[a].append(b)\n",
    "print(\"* graph:\", graph)\n",
    "    \n",
    "# 도시의 수+1개의 거리 list 초기화 (인덱스0번 사용 X)\n",
    "distance = [-1]*(N+1) # 방문하지 않은 도시는 -1\n",
    "distance[X] = 0 # 출발 도시 X에서 출발 도시 X로 가는 최단 거리는 항상 0이라고 가정\n",
    "print(\"* distance: \", distance)\n",
    "\n",
    "# BFS를 위한 deque() 사용해 시작 정점을 queue에 넣음\n",
    "queue = deque([X])\n",
    "print(\"* deque: \", queue)\n",
    "\n",
    "# queue가 비어있을 때까지\n",
    "while queue:\n",
    "    now = queue.popleft() # now: 현재정점\n",
    "    \n",
    "    for next_node in graph[now]:\n",
    "        #방문하지 않은 정점이라면\n",
    "        if distance[next_node] == -1:\n",
    "            distance[next_node] = distance[now] + 1 # 현재정점과 연결된 정점의 거리 + 1\n",
    "            queue.append(next_node)\n",
    "\n",
    "# K값이 distance에 있다면 i값 출력, 없다면 -1 출력\n",
    "if K in distance:\n",
    "    for i in range(1, N+1):\n",
    "        if distance[i] == K:\n",
    "            print(i)\n",
    "else:\n",
    "    print(-1)"
   ]
  },
  {
   "cell_type": "code",
   "execution_count": null,
   "id": "5a2673a1",
   "metadata": {},
   "outputs": [],
   "source": []
  }
 ],
 "metadata": {
  "kernelspec": {
   "display_name": "Python 3 (ipykernel)",
   "language": "python",
   "name": "python3"
  },
  "language_info": {
   "codemirror_mode": {
    "name": "ipython",
    "version": 3
   },
   "file_extension": ".py",
   "mimetype": "text/x-python",
   "name": "python",
   "nbconvert_exporter": "python",
   "pygments_lexer": "ipython3",
   "version": "3.10.6"
  }
 },
 "nbformat": 4,
 "nbformat_minor": 5
}
