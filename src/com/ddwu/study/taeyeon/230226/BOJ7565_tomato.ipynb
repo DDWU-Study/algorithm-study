{
 "cells": [
  {
   "cell_type": "code",
   "execution_count": null,
   "id": "52f35e6e",
   "metadata": {},
   "outputs": [],
   "source": [
    "from collections import deque\n",
    "\n",
    "m, n = map(int, input().split())\n",
    "matrix = [list(map(int, input().split())) for _ in range(n)]\n",
    "queue = deque([])\n",
    "dx, dy = [-1, 1, 0, 0], [0, 0, -1, 1]\n",
    "res = 0\n",
    "\n",
    "for i in range(n):\n",
    "    for j in range(m):\n",
    "        if matrix[i][j] == 1:\n",
    "            queue.append([i, j])\n",
    "\n",
    "def bfs():\n",
    "    while queue:\n",
    "        x, y = queue.popleft()\n",
    "        for i in range(4):\n",
    "            nx, ny = dx[i] + x, dy[i] + y\n",
    "            if 0 <= nx < n and 0 <= ny < m and matrix[nx][ny] == 0:\n",
    "                matrix[nx][ny] = matrix[x][y] + 1\n",
    "                queue.append([nx, ny])\n",
    "\n",
    "bfs()\n",
    "for i in matrix:\n",
    "    for j in i:\n",
    "        if j == 0:\n",
    "            print(-1)\n",
    "            exit(0)\n",
    "    res = max(res, max(i))\n",
    "print(res - 1)"
   ]
  }
 ],
 "metadata": {
  "kernelspec": {
   "display_name": "Python 3 (ipykernel)",
   "language": "python",
   "name": "python3"
  },
  "language_info": {
   "codemirror_mode": {
    "name": "ipython",
    "version": 3
   },
   "file_extension": ".py",
   "mimetype": "text/x-python",
   "name": "python",
   "nbconvert_exporter": "python",
   "pygments_lexer": "ipython3",
   "version": "3.10.6"
  }
 },
 "nbformat": 4,
 "nbformat_minor": 5
}
