{
 "cells": [
  {
   "cell_type": "code",
   "execution_count": 12,
   "id": "3ef81866",
   "metadata": {},
   "outputs": [],
   "source": [
    "X = \"3403\"\n",
    "Y = \"13203\"\n",
    "answer = ''"
   ]
  },
  {
   "cell_type": "code",
   "execution_count": 13,
   "id": "8029890e",
   "metadata": {},
   "outputs": [
    {
     "name": "stdout",
     "output_type": "stream",
     "text": [
      "X: -403, Y: 1-203\n",
      "X: -4-3, Y: 1-2-3\n",
      "X: -4--, Y: 1-2--\n",
      "before sorted answer: 303\n"
     ]
    }
   ],
   "source": [
    "X_list = list(X)\n",
    "Y_list = list(Y)\n",
    "\n",
    "# 길이가 짧은 문자열의 길이만큼 반복\n",
    "for i in range(len(X) if len(X) < len(Y) else len(Y)):\n",
    "    if len(X) <= len(Y): # len(X)만큼 반복됨\n",
    "        if Y.count(X[i]): #Y에 포함된 X[i]의 개수가 0이 아니라면\n",
    "            answer += X[i] #answer에 해당 문자열 추가\n",
    "            Y_list[Y.find(X[i])] = '-' #answer에 추가한 Y의 문자열은 '-'로 대체\n",
    "            Y = \"\".join(Y_list)\n",
    "            X_list[i] = '-' #answer에 추가한 X의 문자열은 '-'로 대체\n",
    "            X=\"\".join(X_list)\n",
    "            \n",
    "            print(\"X: {}, Y: {}\".format(X, Y))\n",
    "    else: # len(Y) 만큼 반복됨\n",
    "        if X.count(Y[i]):\n",
    "            answer += Y[i]\n",
    "            X_list[X.find(Y[i])] = '-'\n",
    "            X = \"\".join(X_list)\n",
    "            \n",
    "            Y_list[i] = '-'\n",
    "            Y=\"\".join(Y_list)\n",
    "\n",
    "if answer == '':\n",
    "    answer = '-1'\n",
    "elif int(answer) == 0:\n",
    "    answer = '0'\n",
    "else:\n",
    "    print(\"before sorted answer: {}\".format(answer))\n",
    "#     answer = ''.join(sorted(answer, reverse=True))"
   ]
  },
  {
   "cell_type": "code",
   "execution_count": 14,
   "id": "42e225cf",
   "metadata": {},
   "outputs": [
    {
     "name": "stdout",
     "output_type": "stream",
     "text": [
      "answer: 303\n"
     ]
    }
   ],
   "source": [
    "print(\"answer: {}\".format(answer))"
   ]
  },
  {
   "cell_type": "code",
   "execution_count": null,
   "id": "d8e67a92",
   "metadata": {},
   "outputs": [],
   "source": []
  },
  {
   "cell_type": "code",
   "execution_count": null,
   "id": "f2f5c59f",
   "metadata": {},
   "outputs": [],
   "source": []
  },
  {
   "cell_type": "code",
   "execution_count": null,
   "id": "68ad9ee0",
   "metadata": {},
   "outputs": [],
   "source": []
  },
  {
   "cell_type": "code",
   "execution_count": null,
   "id": "80ba0468",
   "metadata": {},
   "outputs": [],
   "source": []
  },
  {
   "cell_type": "code",
   "execution_count": null,
   "id": "8c630b1d",
   "metadata": {},
   "outputs": [],
   "source": []
  },
  {
   "cell_type": "code",
   "execution_count": null,
   "id": "f8133522",
   "metadata": {},
   "outputs": [],
   "source": [
    "str = 'ABCDEFG'\n",
    "print(str[0])\n",
    "str[0] = '-'"
   ]
  },
  {
   "cell_type": "code",
   "execution_count": null,
   "id": "8ceac248",
   "metadata": {},
   "outputs": [],
   "source": [
    "str = 'ABCDEFG'\n",
    "print(str[0])\n",
    "\n",
    "str_list = list(str)\n",
    "str_list[0] = '-'\n",
    "str = \"\".join(str_list)\n",
    "print(str)"
   ]
  },
  {
   "cell_type": "code",
   "execution_count": null,
   "id": "8faba09d",
   "metadata": {},
   "outputs": [],
   "source": []
  }
 ],
 "metadata": {
  "kernelspec": {
   "display_name": "Python 3 (ipykernel)",
   "language": "python",
   "name": "python3"
  },
  "language_info": {
   "codemirror_mode": {
    "name": "ipython",
    "version": 3
   },
   "file_extension": ".py",
   "mimetype": "text/x-python",
   "name": "python",
   "nbconvert_exporter": "python",
   "pygments_lexer": "ipython3",
   "version": "3.10.6"
  }
 },
 "nbformat": 4,
 "nbformat_minor": 5
}
