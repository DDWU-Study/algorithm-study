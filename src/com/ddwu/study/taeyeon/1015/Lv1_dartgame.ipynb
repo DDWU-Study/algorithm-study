{
 "cells": [
  {
   "cell_type": "code",
   "execution_count": 114,
   "id": "b94bb122",
   "metadata": {},
   "outputs": [],
   "source": [
    "dartResult = '1D#2S*3S'"
   ]
  },
  {
   "cell_type": "code",
   "execution_count": 115,
   "id": "18400aac",
   "metadata": {},
   "outputs": [
    {
     "name": "stdout",
     "output_type": "stream",
     "text": [
      "1D#2S*3S\n"
     ]
    }
   ],
   "source": [
    "answer = 0\n",
    "\n",
    "dic = {\"S\":1, \"D\":2, \"T\":3}\n",
    "dartResult = dartResult.replace(\"10\", \"X\")\n",
    "print(dartResult)"
   ]
  },
  {
   "cell_type": "code",
   "execution_count": 116,
   "id": "2e0f28c5",
   "metadata": {},
   "outputs": [],
   "source": [
    "stack = []\n",
    "\n",
    "for i in dartResult:\n",
    "    if i.isdigit() or i == 'X': #숫자(0~10)인경우 stack에 넣기 \n",
    "        stack.append(10 if i == 'X' else int(i))\n",
    "    elif i in [\"S\", \"D\", \"T\"]: #S, D, T인 경우\n",
    "        num = stack.pop() #가장 최근에 넣은 숫자를 꺼내서\n",
    "        stack.append(num ** dic[i]) #dic[i]제곱 시킨 뒤 다시 stack에 넣기\n",
    "    elif i == '#': #아차상인 경우 해당 값 (-)로\n",
    "        stack[-1] *= -1 \n",
    "    elif i == '*': #스타상인 경우 \n",
    "        num = stack.pop() #최근에 넣은 숫자를 꺼내서\n",
    "        if len(stack): # case5: *의 효과와 #의 효과 중첩되는 경우\n",
    "            stack[-1] *= 2 # -2배\n",
    "        stack.append(2 * num)"
   ]
  },
  {
   "cell_type": "code",
   "execution_count": 117,
   "id": "604acb33",
   "metadata": {},
   "outputs": [
    {
     "name": "stdout",
     "output_type": "stream",
     "text": [
      "[-2, 4, 3] 5\n"
     ]
    }
   ],
   "source": [
    "print(stack, sum(stack))"
   ]
  },
  {
   "cell_type": "code",
   "execution_count": null,
   "id": "03ca859d",
   "metadata": {},
   "outputs": [],
   "source": []
  },
  {
   "cell_type": "code",
   "execution_count": null,
   "id": "e9583d2e",
   "metadata": {},
   "outputs": [],
   "source": [
    "import math\n",
    "\n",
    "answer = 0\n",
    "\n",
    "dic = {\"S\":1, \"D\":2, \"T\":3}\n",
    "dartResult = dartResult.replace(\"10\", \"X\")\n",
    "print(dartResult)\n",
    "\n",
    "stack = []\n",
    "\n",
    "for i in dartResult:\n",
    "    if i.isdigit() or i == 'X':\n",
    "        stack.append(10 if i == 'X' else int(i))\n",
    "    elif i in [\"S\", \"D\", \"T\"]:\n",
    "        num = stack.pop()\n",
    "        stack.append(num ** dic[i])\n",
    "    elif i == '#':\n",
    "        stack[-1] *= -1\n",
    "    elif i == '*':\n",
    "        num = stack.pop()\n",
    "        if len(stack):\n",
    "            stack[-1] *= 2\n",
    "        stack.append(2 * num)\n",
    "    \n",
    "    print(sum(stack))"
   ]
  }
 ],
 "metadata": {
  "kernelspec": {
   "display_name": "Python 3 (ipykernel)",
   "language": "python",
   "name": "python3"
  },
  "language_info": {
   "codemirror_mode": {
    "name": "ipython",
    "version": 3
   },
   "file_extension": ".py",
   "mimetype": "text/x-python",
   "name": "python",
   "nbconvert_exporter": "python",
   "pygments_lexer": "ipython3",
   "version": "3.10.6"
  }
 },
 "nbformat": 4,
 "nbformat_minor": 5
}
