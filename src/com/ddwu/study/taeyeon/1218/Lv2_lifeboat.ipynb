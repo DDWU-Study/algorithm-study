{
 "cells": [
  {
   "cell_type": "code",
   "execution_count": 4,
   "id": "f30c4a91",
   "metadata": {},
   "outputs": [],
   "source": [
    "def solution(people, limit):\n",
    "    answer = 0\n",
    "    left = 0\n",
    "    right = len(people) - 1\n",
    "    people = sorted(people)\n",
    "    \n",
    "    while left <= right:\n",
    "        if people[left] + people[right] <= limit:\n",
    "            left += 1\n",
    "            right -= 1\n",
    "            answer += 1\n",
    "        else:\n",
    "            right -= 1\n",
    "            answer += 1\n",
    "    \n",
    "    \n",
    "    return answer"
   ]
  },
  {
   "cell_type": "code",
   "execution_count": 5,
   "id": "d5796830",
   "metadata": {},
   "outputs": [
    {
     "name": "stdout",
     "output_type": "stream",
     "text": [
      "\n",
      " 3\n"
     ]
    }
   ],
   "source": [
    "people1 = [70, 50, 80, 50]\n",
    "limit = 100\n",
    "print('\\n', solution(people1, limit))"
   ]
  },
  {
   "cell_type": "code",
   "execution_count": 6,
   "id": "16efd056",
   "metadata": {},
   "outputs": [
    {
     "name": "stdout",
     "output_type": "stream",
     "text": [
      "\n",
      " 3\n"
     ]
    }
   ],
   "source": [
    "people2 = [70, 80, 50]\n",
    "limit = 100\n",
    "print('\\n', solution(people2, limit))"
   ]
  },
  {
   "cell_type": "code",
   "execution_count": null,
   "id": "3e936beb",
   "metadata": {},
   "outputs": [],
   "source": []
  },
  {
   "cell_type": "code",
   "execution_count": null,
   "id": "dc65bedd",
   "metadata": {},
   "outputs": [],
   "source": []
  }
 ],
 "metadata": {
  "kernelspec": {
   "display_name": "Python 3 (ipykernel)",
   "language": "python",
   "name": "python3"
  },
  "language_info": {
   "codemirror_mode": {
    "name": "ipython",
    "version": 3
   },
   "file_extension": ".py",
   "mimetype": "text/x-python",
   "name": "python",
   "nbconvert_exporter": "python",
   "pygments_lexer": "ipython3",
   "version": "3.10.6"
  }
 },
 "nbformat": 4,
 "nbformat_minor": 5
}
