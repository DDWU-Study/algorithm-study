{
 "cells": [
  {
   "cell_type": "code",
   "execution_count": 1,
   "id": "779ee763",
   "metadata": {},
   "outputs": [],
   "source": [
    "triangle  = [[7], [3, 8], [8, 1, 0], [2, 7, 4, 4], [4, 5, 2, 6, 5]]"
   ]
  },
  {
   "cell_type": "code",
   "execution_count": 37,
   "id": "21f5dbab",
   "metadata": {},
   "outputs": [],
   "source": [
    "def solution(triangle):\n",
    "    \n",
    "    dp = [[0] * len(triangle) for _ in range(len(triangle))]\n",
    "    dp[0][0] = triangle[0][0]\n",
    "    \n",
    "    for i in range(0, len(triangle) - 1):\n",
    "        for j in range(len(triangle[i])):\n",
    "            dp[i + 1][j] = max(dp[i + 1][j], dp[i][j] + triangle[i + 1][j])\n",
    "            print(f\"dp[{i + 1}][{j}]: \".format(i+1, j), dp[i + 1][j])\n",
    "            dp[i + 1][j + 1] = max(dp[i + 1][j + 1], dp[i][j] + triangle[i + 1][j + 1])\n",
    "            print(f\"dp[{i + 1}][{j + 1}]: \".format(i+1, j+1), dp[i + 1][j + 1])\n",
    "            print(\"-\")\n",
    "        print(\"dp: \", dp)\n",
    "        print(\"\\n\")\n",
    "    return max(dp[-1])"
   ]
  },
  {
   "cell_type": "code",
   "execution_count": 38,
   "id": "d8875e8b",
   "metadata": {},
   "outputs": [
    {
     "name": "stdout",
     "output_type": "stream",
     "text": [
      "dp[1][0]:  10\n",
      "dp[1][1]:  15\n",
      "-\n",
      "dp:  [[7, 0, 0, 0, 0], [10, 15, 0, 0, 0], [0, 0, 0, 0, 0], [0, 0, 0, 0, 0], [0, 0, 0, 0, 0]]\n",
      "\n",
      "\n",
      "dp[2][0]:  18\n",
      "dp[2][1]:  11\n",
      "-\n",
      "dp[2][1]:  16\n",
      "dp[2][2]:  15\n",
      "-\n",
      "dp:  [[7, 0, 0, 0, 0], [10, 15, 0, 0, 0], [18, 16, 15, 0, 0], [0, 0, 0, 0, 0], [0, 0, 0, 0, 0]]\n",
      "\n",
      "\n",
      "dp[3][0]:  20\n",
      "dp[3][1]:  25\n",
      "-\n",
      "dp[3][1]:  25\n",
      "dp[3][2]:  20\n",
      "-\n",
      "dp[3][2]:  20\n",
      "dp[3][3]:  19\n",
      "-\n",
      "dp:  [[7, 0, 0, 0, 0], [10, 15, 0, 0, 0], [18, 16, 15, 0, 0], [20, 25, 20, 19, 0], [0, 0, 0, 0, 0]]\n",
      "\n",
      "\n",
      "dp[4][0]:  24\n",
      "dp[4][1]:  25\n",
      "-\n",
      "dp[4][1]:  30\n",
      "dp[4][2]:  27\n",
      "-\n",
      "dp[4][2]:  27\n",
      "dp[4][3]:  26\n",
      "-\n",
      "dp[4][3]:  26\n",
      "dp[4][4]:  24\n",
      "-\n",
      "dp:  [[7, 0, 0, 0, 0], [10, 15, 0, 0, 0], [18, 16, 15, 0, 0], [20, 25, 20, 19, 0], [24, 30, 27, 26, 24]]\n",
      "\n",
      "\n",
      "30\n"
     ]
    }
   ],
   "source": [
    "print(solution(triangle))"
   ]
  }
 ],
 "metadata": {
  "kernelspec": {
   "display_name": "Python 3 (ipykernel)",
   "language": "python",
   "name": "python3"
  },
  "language_info": {
   "codemirror_mode": {
    "name": "ipython",
    "version": 3
   },
   "file_extension": ".py",
   "mimetype": "text/x-python",
   "name": "python",
   "nbconvert_exporter": "python",
   "pygments_lexer": "ipython3",
   "version": "3.10.6"
  }
 },
 "nbformat": 4,
 "nbformat_minor": 5
}
