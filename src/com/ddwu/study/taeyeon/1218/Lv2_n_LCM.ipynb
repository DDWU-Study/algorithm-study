{
 "cells": [
  {
   "cell_type": "code",
   "execution_count": 1,
   "id": "19f393c0",
   "metadata": {},
   "outputs": [],
   "source": [
    "arr = [2,6,8,14]"
   ]
  },
  {
   "cell_type": "code",
   "execution_count": null,
   "id": "b6c9cff0",
   "metadata": {},
   "outputs": [],
   "source": [
    "import math\n",
    "def solution_1(arr):\n",
    "    answer = math.lcm(*arr)\n",
    "    \n",
    "    return answer\n",
    "\n",
    "print(solution_1(arr))"
   ]
  },
  {
   "cell_type": "code",
   "execution_count": 11,
   "id": "1ac0b277",
   "metadata": {},
   "outputs": [
    {
     "name": "stdout",
     "output_type": "stream",
     "text": [
      "168\n"
     ]
    }
   ],
   "source": [
    "from math import gcd\n",
    "def solution(arr):\n",
    "    answer = arr[0]\n",
    "    for num in arr:\n",
    "        answer = answer*num // gcd(answer, num)\n",
    "    return answer\n",
    "\n",
    "print(solution(arr))"
   ]
  }
 ],
 "metadata": {
  "kernelspec": {
   "display_name": "Python 3 (ipykernel)",
   "language": "python",
   "name": "python3"
  },
  "language_info": {
   "codemirror_mode": {
    "name": "ipython",
    "version": 3
   },
   "file_extension": ".py",
   "mimetype": "text/x-python",
   "name": "python",
   "nbconvert_exporter": "python",
   "pygments_lexer": "ipython3",
   "version": "3.10.6"
  }
 },
 "nbformat": 4,
 "nbformat_minor": 5
}
