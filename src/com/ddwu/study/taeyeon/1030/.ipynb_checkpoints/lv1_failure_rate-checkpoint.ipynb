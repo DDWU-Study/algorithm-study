{
 "cells": [
  {
   "cell_type": "code",
   "execution_count": 1,
   "id": "0ee1a95d",
   "metadata": {},
   "outputs": [],
   "source": [
    "N = 5\n",
    "stages = [2, 1, 2, 6, 2, 4, 3, 3]\n",
    "answer = []"
   ]
  },
  {
   "cell_type": "code",
   "execution_count": 2,
   "id": "62d4a2ed",
   "metadata": {},
   "outputs": [
    {
     "name": "stdout",
     "output_type": "stream",
     "text": [
      "statge1, 1/8=0.125\n",
      "statge2, 3/7=0.42857142857142855\n",
      "statge3, 2/4=0.5\n",
      "statge4, 1/2=0.5\n",
      "statge5, 0/1=0.0\n"
     ]
    }
   ],
   "source": [
    "d = dict()\n",
    "num = len(stages)\n",
    "for i in range(1, N+1):\n",
    "    if num == 0:\n",
    "        d[i] = 0\n",
    "    else:\n",
    "        cnt = stages.count(i)\n",
    "        print(\"statge{}, {}/{}={}\".format(i, cnt, num, cnt/num))\n",
    "        d[i] = cnt/num\n",
    "        num -= cnt"
   ]
  },
  {
   "cell_type": "code",
   "execution_count": 3,
   "id": "9e7c3d01",
   "metadata": {},
   "outputs": [
    {
     "name": "stdout",
     "output_type": "stream",
     "text": [
      "before sorted: {1: 0.125, 2: 0.42857142857142855, 3: 0.5, 4: 0.5, 5: 0.0}\n",
      "after sorted: [(3, 0.5), (4, 0.5), (2, 0.42857142857142855), (1, 0.125), (5, 0.0)]\n"
     ]
    }
   ],
   "source": [
    "print(\"before sorted: {}\".format(d))\n",
    "d = sorted(d.items(), key=lambda x: x[1], reverse=True)\n",
    "print(\"after sorted: {}\".format(d))"
   ]
  },
  {
   "cell_type": "code",
   "execution_count": 4,
   "id": "5b57fe4d",
   "metadata": {},
   "outputs": [
    {
     "name": "stdout",
     "output_type": "stream",
     "text": [
      "[3, 4, 2, 1, 5]\n"
     ]
    }
   ],
   "source": [
    "for i in range(len(d)):\n",
    "    answer.append(d[i][0])\n",
    "print(answer)"
   ]
  },
  {
   "cell_type": "code",
   "execution_count": null,
   "id": "08f1628c",
   "metadata": {},
   "outputs": [],
   "source": []
  },
  {
   "cell_type": "code",
   "execution_count": null,
   "id": "8301c38b",
   "metadata": {},
   "outputs": [],
   "source": []
  }
 ],
 "metadata": {
  "kernelspec": {
   "display_name": "Python 3 (ipykernel)",
   "language": "python",
   "name": "python3"
  },
  "language_info": {
   "codemirror_mode": {
    "name": "ipython",
    "version": 3
   },
   "file_extension": ".py",
   "mimetype": "text/x-python",
   "name": "python",
   "nbconvert_exporter": "python",
   "pygments_lexer": "ipython3",
   "version": "3.10.6"
  }
 },
 "nbformat": 4,
 "nbformat_minor": 5
}
