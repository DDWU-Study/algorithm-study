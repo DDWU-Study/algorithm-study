{
 "cells": [
  {
   "cell_type": "code",
   "execution_count": 1,
   "id": "18f0eb77",
   "metadata": {},
   "outputs": [],
   "source": [
    "s = \"for 1people 2Person BANANA  APPlE\""
   ]
  },
  {
   "cell_type": "code",
   "execution_count": 2,
   "id": "2b6e0942",
   "metadata": {},
   "outputs": [],
   "source": [
    "s_list = list(s)\n",
    "for i in range(len(s)):\n",
    "    if i == 0 and s_list[i].islower(): #첫 시작문자열이 소문자인 경우 대문자 변경\n",
    "        s_list[i] = s_list[i].upper()\n",
    "        \n",
    "    if not s_list[i-1].isalpha(): #\n",
    "        s_list[i] = s_list[i].lower()\n",
    "\n",
    "    \n",
    "    if not s_list[i-1].isspace() and s_list[i].isupper():\n",
    "        s_list[i] = s_list[i].lower()\n",
    "        \n",
    "    if s_list[i-1].isspace() or i == 0:\n",
    "        s_list[i] = s_list[i].upper()\n",
    "    \n",
    "    s = \"\".join(s_list)"
   ]
  },
  {
   "cell_type": "code",
   "execution_count": 3,
   "id": "d16764a8",
   "metadata": {},
   "outputs": [
    {
     "name": "stdout",
     "output_type": "stream",
     "text": [
      "For 1people 2person Banana  Apple\n"
     ]
    }
   ],
   "source": [
    "print(s)"
   ]
  },
  {
   "cell_type": "code",
   "execution_count": null,
   "id": "230afb47",
   "metadata": {},
   "outputs": [],
   "source": [
    " "
   ]
  },
  {
   "cell_type": "code",
   "execution_count": null,
   "id": "1b1eeedc",
   "metadata": {},
   "outputs": [],
   "source": [
    "# wrong\n",
    "s_list = list(s)\n",
    "for i in range(len(s)-1):\n",
    "    if i == 0 and s_list[i].islower(): #첫 시작문자열이 소문자인 경우 대문자 변경\n",
    "        s_list[i] = s_list[i].upper()\n",
    "    elif s_list[i].isupper() and not s_list[i-1].isspace(): #공백 다음 문자가 아닌데 대문자인 경우 소문자 변경\n",
    "        s_list[i] = s_list[i].lower()\n",
    "\n",
    "    if s_list[i].isspace() and not s_list[i+1].isspace(): #공백 다음 문자 대문자 변경\n",
    "        s_list[i+1] = s_list[i+1].upper()\n",
    "\n",
    "    s = \"\".join(s_list)\n",
    "    \n",
    "print(s)"
   ]
  },
  {
   "cell_type": "code",
   "execution_count": null,
   "id": "6b48061e",
   "metadata": {},
   "outputs": [],
   "source": []
  }
 ],
 "metadata": {
  "kernelspec": {
   "display_name": "Python 3 (ipykernel)",
   "language": "python",
   "name": "python3"
  },
  "language_info": {
   "codemirror_mode": {
    "name": "ipython",
    "version": 3
   },
   "file_extension": ".py",
   "mimetype": "text/x-python",
   "name": "python",
   "nbconvert_exporter": "python",
   "pygments_lexer": "ipython3",
   "version": "3.10.6"
  }
 },
 "nbformat": 4,
 "nbformat_minor": 5
}
