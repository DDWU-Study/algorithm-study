{
 "cells": [
  {
   "cell_type": "code",
   "execution_count": 1,
   "id": "9e4f1bb5",
   "metadata": {},
   "outputs": [],
   "source": [
    "def solution(rows, columns, queries):\n",
    "\n",
    "    answer = []\n",
    "    array = [[0 for col in range(columns)] for row in range(rows)]\n",
    "    t = 1\n",
    "    for row in range(rows):\n",
    "        for col in range(columns):\n",
    "            array[row][col] = t\n",
    "            t += 1\n",
    "\n",
    "    for x1,y1,x2,y2 in queries:\n",
    "        tmp = array[x1-1][y1-1]\n",
    "        mini = tmp\n",
    "\n",
    "        for k in range(x1-1,x2-1):\n",
    "            test = array[k+1][y1-1]\n",
    "            array[k][y1-1] = test\n",
    "            mini = min(mini, test)\n",
    "\n",
    "        for k in range(y1-1,y2-1):\n",
    "            test = array[x2-1][k+1]\n",
    "            array[x2-1][k] = test\n",
    "            mini = min(mini, test)\n",
    "\n",
    "        for k in range(x2-1,x1-1,-1):\n",
    "            test = array[k-1][y2-1]\n",
    "            array[k][y2-1] = test\n",
    "            mini = min(mini, test)\n",
    "\n",
    "        for k in range(y2-1,y1-1,-1):\n",
    "            test = array[x1-1][k-1]\n",
    "            array[x1-1][k] = test\n",
    "            mini = min(mini, test)\n",
    "\n",
    "        array[x1-1][y1] = tmp\n",
    "        answer.append(mini)\n",
    "\n",
    "    return answer"
   ]
  },
  {
   "cell_type": "code",
   "execution_count": 2,
   "id": "2e42992c",
   "metadata": {},
   "outputs": [
    {
     "data": {
      "text/plain": [
       "[8, 10, 25]"
      ]
     },
     "execution_count": 2,
     "metadata": {},
     "output_type": "execute_result"
    }
   ],
   "source": [
    "solution(6, 6, [[2,2,5,4],[3,3,6,6],[5,1,6,3]])"
   ]
  },
  {
   "cell_type": "code",
   "execution_count": 3,
   "id": "06a2f1fa",
   "metadata": {},
   "outputs": [
    {
     "data": {
      "text/plain": [
       "[1, 1, 5, 3]"
      ]
     },
     "execution_count": 3,
     "metadata": {},
     "output_type": "execute_result"
    }
   ],
   "source": [
    "solution(3, 3, [[1,1,2,2],[1,2,2,3],[2,1,3,2],[2,2,3,3]])"
   ]
  },
  {
   "cell_type": "code",
   "execution_count": 4,
   "id": "d3522ef0",
   "metadata": {},
   "outputs": [
    {
     "data": {
      "text/plain": [
       "[1]"
      ]
     },
     "execution_count": 4,
     "metadata": {},
     "output_type": "execute_result"
    }
   ],
   "source": [
    "solution(100, 97, [[1,1,100,97]])"
   ]
  },
  {
   "cell_type": "code",
   "execution_count": null,
   "id": "09d92425",
   "metadata": {},
   "outputs": [],
   "source": []
  }
 ],
 "metadata": {
  "kernelspec": {
   "display_name": "Python 3 (ipykernel)",
   "language": "python",
   "name": "python3"
  },
  "language_info": {
   "codemirror_mode": {
    "name": "ipython",
    "version": 3
   },
   "file_extension": ".py",
   "mimetype": "text/x-python",
   "name": "python",
   "nbconvert_exporter": "python",
   "pygments_lexer": "ipython3",
   "version": "3.10.6"
  }
 },
 "nbformat": 4,
 "nbformat_minor": 5
}
