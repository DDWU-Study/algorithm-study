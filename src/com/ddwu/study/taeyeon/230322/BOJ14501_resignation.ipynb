{
 "cells": [
  {
   "cell_type": "code",
   "execution_count": 1,
   "id": "ff317a2c",
   "metadata": {},
   "outputs": [
    {
     "name": "stdout",
     "output_type": "stream",
     "text": [
      "7\n",
      "3 10\n",
      "5 20\n",
      "1 10\n",
      "1 20\n",
      "2 15\n",
      "4 40\n",
      "2 200\n",
      "45\n"
     ]
    }
   ],
   "source": [
    "n = int(input())\n",
    "arr = [(0,0)]\n",
    "dp = [0 for _ in range(n+1)]\n",
    "\n",
    "for _ in range(1, n+1) :\n",
    "    t,p = map(int, input().split())\n",
    "    arr.append((t,p))\n",
    "\n",
    "for i in range(1, n+1) :\n",
    "    time = arr[i][0]\n",
    "    money = arr[i][1]\n",
    "    if i+time > n+1 : # 상담이 n일전에 끝나지 않는다면 \n",
    "        continue\n",
    "    else :\n",
    "        dp[i] = max(dp[i], money)\n",
    "    for j in range(i+time, n+1) :\n",
    "        next_time = arr[j][0]\n",
    "        if j + next_time <= n+1 :\n",
    "            dp[j] = max(dp[j], arr[j][1]+dp[i])\n",
    "    \n",
    "print(max(dp))"
   ]
  },
  {
   "cell_type": "code",
   "execution_count": null,
   "id": "3cc06d28",
   "metadata": {},
   "outputs": [],
   "source": []
  }
 ],
 "metadata": {
  "kernelspec": {
   "display_name": "Python 3 (ipykernel)",
   "language": "python",
   "name": "python3"
  },
  "language_info": {
   "codemirror_mode": {
    "name": "ipython",
    "version": 3
   },
   "file_extension": ".py",
   "mimetype": "text/x-python",
   "name": "python",
   "nbconvert_exporter": "python",
   "pygments_lexer": "ipython3",
   "version": "3.10.6"
  }
 },
 "nbformat": 4,
 "nbformat_minor": 5
}
