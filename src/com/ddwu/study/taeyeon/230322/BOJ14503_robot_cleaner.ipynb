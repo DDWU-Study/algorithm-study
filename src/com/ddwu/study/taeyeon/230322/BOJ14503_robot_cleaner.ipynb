{
 "cells": [
  {
   "cell_type": "code",
   "execution_count": 1,
   "id": "cd035d4b",
   "metadata": {},
   "outputs": [
    {
     "name": "stdout",
     "output_type": "stream",
     "text": [
      "3 3\n",
      "1 1 0\n",
      "1 1 1\n",
      "1 0 1\n",
      "1 1 1\n",
      "1\n"
     ]
    }
   ],
   "source": [
    "def dfs(x, y, d):\n",
    "    global cnt\n",
    "\n",
    "    # 현재 위치 청소\n",
    "    if place[x][y] == 0:\n",
    "        place[x][y] = 2\n",
    "        cnt += 1\n",
    "\n",
    "    left = d\n",
    "    for _ in range(4):\n",
    "        # 왼쪽 방향부터 차례로 인접한 칸 탐색\n",
    "        left = (left+3)%4\n",
    "        nx, ny = x+dxy[left][0], y+dxy[left][1]\n",
    "\n",
    "        # 청소할 공간이 있다면,\n",
    "        if place[nx][ny] == 0:\n",
    "            dfs(nx, ny, left)\n",
    "            return\n",
    "\n",
    "    # 네 방향 모두 청소할 수 없다면,\n",
    "    bx, by = x-dxy[left][0], y-dxy[left][1]\n",
    "\n",
    "    if place[bx][by] != 1:\n",
    "        dfs(bx, by, left)\n",
    "\n",
    "\n",
    "N, M = map(int, input().split())\n",
    "# d -> 0 : 북(-서) , 1 : 동쪽(-북), 2 : 남쪽(-동), 3 : 서쪽(-남)\n",
    "r, c, d = map(int, input().split())\n",
    "place = [list(map(int, input().split())) for _ in range(N)]\n",
    "\n",
    "# 북동남서\n",
    "dxy = [(-1, 0), (0, 1), (1, 0), (0, -1)]\n",
    "cnt = 0\n",
    "dfs(r, c, d)\n",
    "\n",
    "print(cnt)"
   ]
  },
  {
   "cell_type": "code",
   "execution_count": null,
   "id": "12745e1a",
   "metadata": {},
   "outputs": [],
   "source": []
  }
 ],
 "metadata": {
  "kernelspec": {
   "display_name": "Python 3 (ipykernel)",
   "language": "python",
   "name": "python3"
  },
  "language_info": {
   "codemirror_mode": {
    "name": "ipython",
    "version": 3
   },
   "file_extension": ".py",
   "mimetype": "text/x-python",
   "name": "python",
   "nbconvert_exporter": "python",
   "pygments_lexer": "ipython3",
   "version": "3.10.6"
  }
 },
 "nbformat": 4,
 "nbformat_minor": 5
}
