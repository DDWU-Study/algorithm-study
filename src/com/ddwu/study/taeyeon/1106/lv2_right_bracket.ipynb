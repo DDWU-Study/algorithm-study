{
 "cells": [
  {
   "cell_type": "code",
   "execution_count": 1,
   "id": "49706927",
   "metadata": {},
   "outputs": [],
   "source": [
    "s = \")()(\""
   ]
  },
  {
   "cell_type": "code",
   "execution_count": 2,
   "id": "041e0186",
   "metadata": {},
   "outputs": [
    {
     "name": "stdout",
     "output_type": "stream",
     "text": [
      "false\n",
      "False\n"
     ]
    }
   ],
   "source": [
    "stack = []\n",
    "\n",
    "for i in s:\n",
    "    if i == '(': # '(' 가 나오면 stack에 push\n",
    "        stack.append(i)\n",
    "    else: # ')' 인 경우\n",
    "        if stack == []: # 괄호 짝이 ')'로 시작하면 False\n",
    "            print(\"false\")\n",
    "        else: # '(' 가 ')'와 짝을 이루면 stack에서 '(' pop\n",
    "            stack.pop()\n",
    "            \n",
    "print(stack == []) "
   ]
  },
  {
   "cell_type": "code",
   "execution_count": null,
   "id": "4a0bfe83",
   "metadata": {},
   "outputs": [],
   "source": []
  }
 ],
 "metadata": {
  "kernelspec": {
   "display_name": "Python 3 (ipykernel)",
   "language": "python",
   "name": "python3"
  },
  "language_info": {
   "codemirror_mode": {
    "name": "ipython",
    "version": 3
   },
   "file_extension": ".py",
   "mimetype": "text/x-python",
   "name": "python",
   "nbconvert_exporter": "python",
   "pygments_lexer": "ipython3",
   "version": "3.10.6"
  }
 },
 "nbformat": 4,
 "nbformat_minor": 5
}
