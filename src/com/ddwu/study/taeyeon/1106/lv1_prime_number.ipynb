{
 "cells": [
  {
   "cell_type": "code",
   "execution_count": 1,
   "id": "b3fc42e3",
   "metadata": {},
   "outputs": [],
   "source": [
    "n = 10"
   ]
  },
  {
   "cell_type": "code",
   "execution_count": 2,
   "id": "d0f610c5",
   "metadata": {
    "scrolled": true
   },
   "outputs": [
    {
     "name": "stdout",
     "output_type": "stream",
     "text": [
      "num:  {2, 3, 4, 5, 6, 7, 8, 9, 10}\n",
      "===================================\n",
      "i: 2 , 남아있는 num:  {2, 3, 5, 7, 9} \n",
      "\n",
      "i: 3 , 남아있는 num:  {2, 3, 5, 7} \n",
      "\n",
      "i: 5 , 남아있는 num:  {2, 3, 5, 7} \n",
      "\n",
      "i: 7 , 남아있는 num:  {2, 3, 5, 7} \n",
      "\n",
      "최종 num:  4\n"
     ]
    }
   ],
   "source": [
    "num = set(range(2,n+1)) #범위 (2~n) 집합\n",
    "print(\"num: \", num)\n",
    "print(\"===================================\")\n",
    "\n",
    "for i in range(2,n+1): #2~n까지 반복하면서\n",
    "    if i in num: \n",
    "        print(\"i:\", i, \",\", end=' ')\n",
    "        num -= set(range(2*i, n+1, i)) #i의 배수들을 num 집합에서 제거\n",
    "        print(\"남아있는 num: \", num, \"\\n\")\n",
    "        \n",
    "print(\"최종 num: \", len(num))"
   ]
  },
  {
   "cell_type": "code",
   "execution_count": null,
   "id": "1844cf0a",
   "metadata": {},
   "outputs": [],
   "source": []
  }
 ],
 "metadata": {
  "kernelspec": {
   "display_name": "Python 3 (ipykernel)",
   "language": "python",
   "name": "python3"
  },
  "language_info": {
   "codemirror_mode": {
    "name": "ipython",
    "version": 3
   },
   "file_extension": ".py",
   "mimetype": "text/x-python",
   "name": "python",
   "nbconvert_exporter": "python",
   "pygments_lexer": "ipython3",
   "version": "3.10.6"
  }
 },
 "nbformat": 4,
 "nbformat_minor": 5
}
