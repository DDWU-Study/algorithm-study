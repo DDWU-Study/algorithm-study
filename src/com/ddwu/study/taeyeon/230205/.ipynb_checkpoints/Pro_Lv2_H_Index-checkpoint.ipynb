{
 "cells": [
  {
   "cell_type": "code",
   "execution_count": 12,
   "id": "59416bcb",
   "metadata": {},
   "outputs": [],
   "source": [
    "def solution(citations):\n",
    "    citations.sort(reverse=True)\n",
    "    for idx, citation in enumerate(citations):\n",
    "        print(\"idx:\", idx, \" citation:\", citation)\n",
    "        if idx >= citation:\n",
    "            return idx\n"
   ]
  },
  {
   "cell_type": "code",
   "execution_count": 22,
   "id": "45967522",
   "metadata": {},
   "outputs": [
    {
     "name": "stdout",
     "output_type": "stream",
     "text": [
      "idx: 0  citation: 20\n",
      "idx: 1  citation: 5\n",
      "idx: 2  citation: 5\n",
      "idx: 3  citation: 5\n"
     ]
    }
   ],
   "source": [
    "solution([5,5,5,20])"
   ]
  },
  {
   "cell_type": "code",
   "execution_count": 23,
   "id": "bd92af75",
   "metadata": {},
   "outputs": [],
   "source": [
    "def solution2(citations):\n",
    "    citations.sort(reverse=True)\n",
    "    for idx, citation in enumerate(citations):\n",
    "        print(\"idx:\", idx, \" citation:\", citation)\n",
    "        if idx >= citation:\n",
    "            return idx\n"
   ]
  },
  {
   "cell_type": "code",
   "execution_count": 24,
   "id": "155c4c88",
   "metadata": {},
   "outputs": [
    {
     "name": "stdout",
     "output_type": "stream",
     "text": [
      "idx: 0  citation: 20\n",
      "idx: 1  citation: 5\n",
      "idx: 2  citation: 5\n",
      "idx: 3  citation: 5\n"
     ]
    }
   ],
   "source": [
    "solution2([5,5,5,20])"
   ]
  },
  {
   "cell_type": "code",
   "execution_count": null,
   "id": "45ee1dd1",
   "metadata": {},
   "outputs": [],
   "source": []
  }
 ],
 "metadata": {
  "kernelspec": {
   "display_name": "Python 3 (ipykernel)",
   "language": "python",
   "name": "python3"
  },
  "language_info": {
   "codemirror_mode": {
    "name": "ipython",
    "version": 3
   },
   "file_extension": ".py",
   "mimetype": "text/x-python",
   "name": "python",
   "nbconvert_exporter": "python",
   "pygments_lexer": "ipython3",
   "version": "3.10.6"
  }
 },
 "nbformat": 4,
 "nbformat_minor": 5
}
