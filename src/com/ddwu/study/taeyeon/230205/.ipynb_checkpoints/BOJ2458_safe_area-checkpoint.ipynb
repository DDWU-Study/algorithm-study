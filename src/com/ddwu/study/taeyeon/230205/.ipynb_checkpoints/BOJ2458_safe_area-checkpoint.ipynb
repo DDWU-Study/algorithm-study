{
 "cells": [
  {
   "cell_type": "code",
   "execution_count": null,
   "id": "b08d5eac",
   "metadata": {},
   "outputs": [],
   "source": [
    "import sys\n",
    "\n",
    "n = int(input())\n",
    "arr = [list(map(int, sys.stdin.readline().split())) for _ in range(n)]"
   ]
  },
  {
   "cell_type": "code",
   "execution_count": 1,
   "id": "b711152a",
   "metadata": {},
   "outputs": [],
   "source": [
    "n = 5\n",
    "arr = [[6, 8, 2, 6, 2],\n",
    "       [3, 2, 3, 4, 6],\n",
    "       [6, 7, 3, 3, 2],\n",
    "       [7, 2, 5, 3, 6],\n",
    "       [8, 9, 5, 2, 7]]"
   ]
  },
  {
   "cell_type": "code",
   "execution_count": 2,
   "id": "1e883e35",
   "metadata": {},
   "outputs": [
    {
     "name": "stdout",
     "output_type": "stream",
     "text": [
      "5\n"
     ]
    }
   ],
   "source": [
    "from collections import deque\n",
    "\n",
    "def bfs(x, y, num):\n",
    "    q = deque([])\n",
    "    q.append((x, y))\n",
    "    visited[x][y] = 1\n",
    "    while q:\n",
    "        i, j = q.popleft()\n",
    "        for di, dj in [[-1, 0], [1, 0], [0, -1], [0,1]]:\n",
    "            ni, nj = i + di, j + dj\n",
    "            if 0 <= ni < n and 0 <= nj < n and arr[ni][nj] >= num and not visited[ni][nj]:\n",
    "                q.append((ni, nj))\n",
    "                visited[ni][nj] = 1\n",
    "\n",
    "lst = []\n",
    "for i in range(n):\n",
    "    for j in range(n):\n",
    "        if arr[i][j] not in lst:\n",
    "            lst.append(arr[i][j])\n",
    "result = []\n",
    "for num in lst:\n",
    "    cnt = 0\n",
    "    visited = [[0] * n for _ in range(n)]\n",
    "    for i in range(n):\n",
    "        for j in range(n):\n",
    "            if arr[i][j] >= num and not visited[i][j]:\n",
    "                bfs(i, j, num)\n",
    "                cnt += 1\n",
    "    result.append(cnt)\n",
    "print(max(result))"
   ]
  },
  {
   "cell_type": "code",
   "execution_count": null,
   "id": "e3c30ddb",
   "metadata": {},
   "outputs": [],
   "source": []
  }
 ],
 "metadata": {
  "kernelspec": {
   "display_name": "Python 3 (ipykernel)",
   "language": "python",
   "name": "python3"
  },
  "language_info": {
   "codemirror_mode": {
    "name": "ipython",
    "version": 3
   },
   "file_extension": ".py",
   "mimetype": "text/x-python",
   "name": "python",
   "nbconvert_exporter": "python",
   "pygments_lexer": "ipython3",
   "version": "3.10.6"
  }
 },
 "nbformat": 4,
 "nbformat_minor": 5
}
