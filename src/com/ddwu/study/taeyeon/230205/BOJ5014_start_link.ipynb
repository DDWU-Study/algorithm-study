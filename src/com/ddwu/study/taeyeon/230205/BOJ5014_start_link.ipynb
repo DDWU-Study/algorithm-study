{
 "cells": [
  {
   "cell_type": "code",
   "execution_count": null,
   "id": "bfa73847",
   "metadata": {},
   "outputs": [],
   "source": [
    "import sys\n",
    "\n",
    "# 고층, 현재, 도착할 곳, 위, 아래\n",
    "F, S, G, U, D = map(int, sys.stdin.readline().split())"
   ]
  },
  {
   "cell_type": "code",
   "execution_count": 1,
   "id": "9c076438",
   "metadata": {},
   "outputs": [],
   "source": [
    "F, G, S, U, D = 10, 10, 1, 2, 1"
   ]
  },
  {
   "cell_type": "code",
   "execution_count": 2,
   "id": "3e4ca1ee",
   "metadata": {},
   "outputs": [
    {
     "name": "stdout",
     "output_type": "stream",
     "text": [
      "6\n"
     ]
    }
   ],
   "source": [
    "from collections import deque\n",
    "\n",
    "def BFS(start, goal):\n",
    "    q = deque()\n",
    "    visited = [-1] * (F+1)\n",
    "    q.append(start)\n",
    "    visited[start] = 0\n",
    "    \n",
    "    while q:\n",
    "        x = q.popleft()\n",
    "        \n",
    "        if x == goal:\n",
    "            return visited[x]\n",
    "        \n",
    "        for nx in (x+U, x-D):\n",
    "            if 0 < nx <= F and visited[nx] == -1:\n",
    "                q.append(nx)\n",
    "                visited[nx] = visited[x] + 1\n",
    "                \n",
    "    return \"use the stairs\"\n",
    "\n",
    "print(BFS(S, G))"
   ]
  },
  {
   "cell_type": "code",
   "execution_count": null,
   "id": "c324b530",
   "metadata": {},
   "outputs": [],
   "source": []
  }
 ],
 "metadata": {
  "kernelspec": {
   "display_name": "Python 3 (ipykernel)",
   "language": "python",
   "name": "python3"
  },
  "language_info": {
   "codemirror_mode": {
    "name": "ipython",
    "version": 3
   },
   "file_extension": ".py",
   "mimetype": "text/x-python",
   "name": "python",
   "nbconvert_exporter": "python",
   "pygments_lexer": "ipython3",
   "version": "3.10.6"
  }
 },
 "nbformat": 4,
 "nbformat_minor": 5
}
