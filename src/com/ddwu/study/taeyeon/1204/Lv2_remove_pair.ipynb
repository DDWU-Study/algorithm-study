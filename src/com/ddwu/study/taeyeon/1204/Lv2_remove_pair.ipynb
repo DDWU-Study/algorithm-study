{
 "cells": [
  {
   "cell_type": "code",
   "execution_count": 52,
   "id": "fda075ad",
   "metadata": {},
   "outputs": [],
   "source": [
    "# stack\n",
    "def solution(s):\n",
    "    answer = -1\n",
    "\n",
    "    stack = []\n",
    "    for i in s:\n",
    "        if len(stack) == 0: # 맨 처음 또는 stack이 비어있으면 push\n",
    "            stack.append(i)\n",
    "        elif stack[-1] == i: # 현재 값이 마지막 넣은 값과 일치하면\n",
    "            stack.pop() # pop\n",
    "        else:\n",
    "            stack.append(i)\n",
    "    \n",
    "    if len(stack) == 0: # 모든 값이 제거되어 stack이 비어있게 되면 1 반환\n",
    "        answer = 1\n",
    "    else: # 모든 값이 제거되지 못한 경우 0 반환\n",
    "        answer = 0\n",
    "    return answer"
   ]
  },
  {
   "cell_type": "code",
   "execution_count": 53,
   "id": "2688f670",
   "metadata": {},
   "outputs": [
    {
     "name": "stdout",
     "output_type": "stream",
     "text": [
      "1\n"
     ]
    }
   ],
   "source": [
    "s = 'baabaa'\n",
    "print(solution(s))"
   ]
  },
  {
   "cell_type": "code",
   "execution_count": null,
   "id": "576fc047",
   "metadata": {},
   "outputs": [],
   "source": []
  }
 ],
 "metadata": {
  "kernelspec": {
   "display_name": "Python 3 (ipykernel)",
   "language": "python",
   "name": "python3"
  },
  "language_info": {
   "codemirror_mode": {
    "name": "ipython",
    "version": 3
   },
   "file_extension": ".py",
   "mimetype": "text/x-python",
   "name": "python",
   "nbconvert_exporter": "python",
   "pygments_lexer": "ipython3",
   "version": "3.10.6"
  }
 },
 "nbformat": 4,
 "nbformat_minor": 5
}
