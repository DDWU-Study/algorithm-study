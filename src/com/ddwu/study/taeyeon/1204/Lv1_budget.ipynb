{
 "cells": [
  {
   "cell_type": "code",
   "execution_count": 12,
   "id": "a4ddf95a",
   "metadata": {},
   "outputs": [],
   "source": [
    "def solution_runtime_error(d, budget):\n",
    "    answer = 0\n",
    "    \n",
    "    while(1):\n",
    "        if budget == 0 or min(d) > budget:\n",
    "            break\n",
    "\n",
    "        m = min(d)\n",
    "        budget -= m\n",
    "        d.remove(m)\n",
    "        answer += 1\n",
    "        \n",
    "    return answer"
   ]
  },
  {
   "cell_type": "code",
   "execution_count": 13,
   "id": "b2695ca7",
   "metadata": {},
   "outputs": [
    {
     "name": "stdout",
     "output_type": "stream",
     "text": [
      "3\n"
     ]
    }
   ],
   "source": [
    "d = [1,3,2,5,4]\n",
    "budget = 9\n",
    "print(solution_runtime_error(d, budget)) #82.6점"
   ]
  },
  {
   "cell_type": "code",
   "execution_count": null,
   "id": "dbebec6c",
   "metadata": {},
   "outputs": [],
   "source": []
  },
  {
   "cell_type": "code",
   "execution_count": 14,
   "id": "6a7a4d9d",
   "metadata": {},
   "outputs": [],
   "source": [
    "def solution(d, budget):\n",
    "    answer = 0\n",
    "    \n",
    "    for i in range(len(d)):\n",
    "        if budget == 0 or min(d) > budget: # budget이 0이거나 최솟값이 budget보다 큰 경우\n",
    "            break\n",
    "\n",
    "        m = min(d) # 최솟값\n",
    "        budget -= m # 예산에서 최솟값 빼주기\n",
    "        d.remove(m) # 최솟값 제거\n",
    "        answer += 1\n",
    "        \n",
    "    return answer"
   ]
  },
  {
   "cell_type": "code",
   "execution_count": 15,
   "id": "0589809f",
   "metadata": {},
   "outputs": [
    {
     "name": "stdout",
     "output_type": "stream",
     "text": [
      "3\n"
     ]
    }
   ],
   "source": [
    "d = [1,3,2,5,4]\n",
    "budget = 9\n",
    "print(solution(d, budget))"
   ]
  }
 ],
 "metadata": {
  "kernelspec": {
   "display_name": "Python 3 (ipykernel)",
   "language": "python",
   "name": "python3"
  },
  "language_info": {
   "codemirror_mode": {
    "name": "ipython",
    "version": 3
   },
   "file_extension": ".py",
   "mimetype": "text/x-python",
   "name": "python",
   "nbconvert_exporter": "python",
   "pygments_lexer": "ipython3",
   "version": "3.10.6"
  }
 },
 "nbformat": 4,
 "nbformat_minor": 5
}
