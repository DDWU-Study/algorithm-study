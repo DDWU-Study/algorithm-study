{
 "cells": [
  {
   "cell_type": "code",
   "execution_count": 1,
   "id": "a797e559",
   "metadata": {},
   "outputs": [
    {
     "name": "stdout",
     "output_type": "stream",
     "text": [
      "31\n",
      "101\n"
     ]
    }
   ],
   "source": [
    "import math\n",
    "n = int(input())\n",
    "\n",
    "def isPrime(x):\n",
    "    if x == 1:\n",
    "        return False\n",
    "    for i in range(2, int(math.sqrt(x)+1)):\n",
    "        if x % i == 0:\n",
    "            return False\n",
    "    return True\n",
    "\n",
    "def isPalindrome(x):\n",
    "    xs = str(x)\n",
    "    xsr = xs[::-1]\n",
    "    if xs == xsr:\n",
    "        return True\n",
    "    else:\n",
    "        return False\n",
    "\n",
    "start = n\n",
    "while True:\n",
    "    if isPalindrome(start) and isPrime(start):\n",
    "        print(start)\n",
    "        break\n",
    "    else:\n",
    "        start+=1"
   ]
  },
  {
   "cell_type": "markdown",
   "id": "e36dce37",
   "metadata": {},
   "source": []
  }
 ],
 "metadata": {
  "kernelspec": {
   "display_name": "Python 3 (ipykernel)",
   "language": "python",
   "name": "python3"
  },
  "language_info": {
   "codemirror_mode": {
    "name": "ipython",
    "version": 3
   },
   "file_extension": ".py",
   "mimetype": "text/x-python",
   "name": "python",
   "nbconvert_exporter": "python",
   "pygments_lexer": "ipython3",
   "version": "3.10.6"
  }
 },
 "nbformat": 4,
 "nbformat_minor": 5
}
