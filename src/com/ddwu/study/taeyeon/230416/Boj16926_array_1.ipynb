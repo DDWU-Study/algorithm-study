{
 "cells": [
  {
   "cell_type": "code",
   "execution_count": null,
   "id": "8e38fc9a",
   "metadata": {},
   "outputs": [],
   "source": [
    "from sys import stdin\n",
    "from collections import deque\n",
    "\n",
    "N, M, R = map(int, stdin.readline().split())\n",
    "\n",
    "matrix = []\n",
    "answer = [[0]*M for _ in range(N)]\n",
    "deq = deque()\n",
    "\n",
    "for i in range(N):\n",
    "    matrix.append(list(stdin.readline().split()))\n",
    "\n",
    "loops = min(N, M) // 2\n",
    "for i in range(loops):\n",
    "    deq.clear()\n",
    "    deq.extend(matrix[i][i:M-i])\n",
    "    deq.extend([row[M-i-1] for row in matrix[i+1:N-i-1]])\n",
    "    deq.extend(matrix[N-i-1][i:M-i][::-1])\n",
    "    deq.extend([row[i] for row in matrix[i+1:N-i-1]][::-1])\n",
    "    \n",
    "    deq.rotate(-R)\n",
    "    \n",
    "    for j in range(i, M-i):                 # 위쪽\n",
    "        answer[i][j] = deq.popleft()\n",
    "    for j in range(i+1, N-i-1):             # 오른쪽\n",
    "        answer[j][M-i-1] = deq.popleft()\n",
    "    for j in range(M-i-1, i-1, -1):           # 아래쪽\n",
    "        answer[N-i-1][j] = deq.popleft()  \n",
    "    for j in range(N-i-2, i, -1):           # 왼쪽\n",
    "        answer[j][i] = deq.popleft()    \n",
    "\n",
    "for line in answer:\n",
    "    print(\" \".join(line))"
   ]
  }
 ],
 "metadata": {
  "kernelspec": {
   "display_name": "Python 3 (ipykernel)",
   "language": "python",
   "name": "python3"
  },
  "language_info": {
   "codemirror_mode": {
    "name": "ipython",
    "version": 3
   },
   "file_extension": ".py",
   "mimetype": "text/x-python",
   "name": "python",
   "nbconvert_exporter": "python",
   "pygments_lexer": "ipython3",
   "version": "3.10.6"
  }
 },
 "nbformat": 4,
 "nbformat_minor": 5
}
