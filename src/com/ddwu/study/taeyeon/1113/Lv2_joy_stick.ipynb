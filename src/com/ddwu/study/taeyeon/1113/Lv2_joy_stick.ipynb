{
 "cells": [
  {
   "cell_type": "code",
   "execution_count": 1,
   "id": "f859b7e1",
   "metadata": {},
   "outputs": [],
   "source": [
    "name = \"JAZ\""
   ]
  },
  {
   "cell_type": "code",
   "execution_count": null,
   "id": "135fd0f8",
   "metadata": {},
   "outputs": [],
   "source": [
    "def solution(name):\n",
    "    # 상하 알파벳 변경\n",
    "    change = [min(ord(i) - ord('A', ord('Z') - ord(i) + 1) for i in name)] # 각 알파벳마다 상하 조정 중 min값으로 최소 횟수 담아두기\n",
    "    idx = 0\n",
    "    answer = 0\n",
    "    \n",
    "    while True:\n",
    "        answer += change[idx]\n",
    "        change[idx] = 0\n",
    "        if sum(change) == 0:\n",
    "            print(answer)\n",
    "        \n",
    "        # 좌우 이동방향\n",
    "        left, right = 1, 1\n",
    "        while change[idx - left] == 0:\n",
    "            left += 1\n",
    "            \n",
    "        while change[idx + right] == 0:\n",
    "            right += 1\n",
    "            \n",
    "        # 위치(인덱스) 조정\n",
    "        answer += left if left < right else right\n",
    "        idx += -left if left < riight else right"
   ]
  }
 ],
 "metadata": {
  "kernelspec": {
   "display_name": "Python 3 (ipykernel)",
   "language": "python",
   "name": "python3"
  },
  "language_info": {
   "codemirror_mode": {
    "name": "ipython",
    "version": 3
   },
   "file_extension": ".py",
   "mimetype": "text/x-python",
   "name": "python",
   "nbconvert_exporter": "python",
   "pygments_lexer": "ipython3",
   "version": "3.10.6"
  }
 },
 "nbformat": 4,
 "nbformat_minor": 5
}
