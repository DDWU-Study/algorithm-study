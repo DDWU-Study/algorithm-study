{
 "cells": [
  {
   "cell_type": "code",
   "execution_count": 1,
   "id": "b3412d52",
   "metadata": {},
   "outputs": [],
   "source": [
    "name = \"JAZ\""
   ]
  },
  {
   "cell_type": "code",
   "execution_count": null,
   "id": "0a9563ea",
   "metadata": {},
   "outputs": [],
   "source": [
    "result = \"\"\n",
    "for i in range(len(name)):\n",
    "    result += \"A\"\n",
    "    \n",
    "    \n",
    "up = \n",
    "\n",
    "cnt = 0\n",
    "while True:\n",
    "    if result == name:\n",
    "        break\n",
    "    \n",
    "    for i in range(len(result)):\n",
    "        up = chr(ord(result[i])+1)\n",
    "        down = chr(ord(result[i])-1)\n",
    "        left = \n",
    "        result[i] "
   ]
  },
  {
   "cell_type": "code",
   "execution_count": 8,
   "id": "e05efe42",
   "metadata": {},
   "outputs": [
    {
     "name": "stdout",
     "output_type": "stream",
     "text": [
      "B\n"
     ]
    }
   ],
   "source": [
    "print(chr(ord(result[0])+1))"
   ]
  },
  {
   "cell_type": "code",
   "execution_count": null,
   "id": "8511c006",
   "metadata": {},
   "outputs": [],
   "source": []
  }
 ],
 "metadata": {
  "kernelspec": {
   "display_name": "Python 3 (ipykernel)",
   "language": "python",
   "name": "python3"
  },
  "language_info": {
   "codemirror_mode": {
    "name": "ipython",
    "version": 3
   },
   "file_extension": ".py",
   "mimetype": "text/x-python",
   "name": "python",
   "nbconvert_exporter": "python",
   "pygments_lexer": "ipython3",
   "version": "3.10.6"
  }
 },
 "nbformat": 4,
 "nbformat_minor": 5
}
