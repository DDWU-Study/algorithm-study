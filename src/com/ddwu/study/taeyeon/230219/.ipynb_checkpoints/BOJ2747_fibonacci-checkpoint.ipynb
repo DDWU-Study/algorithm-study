{
 "cells": [
  {
   "cell_type": "code",
   "execution_count": 1,
   "id": "568a56f5",
   "metadata": {},
   "outputs": [],
   "source": [
    "def memo_fibo(n):\n",
    "    # F(0), F(1)은 1로 고정되어 있기 때문에 배열에 미리 저장\n",
    "    memo[0] = 0\n",
    "    memo[1] = 1\n",
    "\n",
    "    if n < 2:\n",
    "        return memo[n]\n",
    "\n",
    "    # 2번째 수열을 구할때부터는 배열에 저장된 값을 이용\n",
    "    for i in range(2, n+1):\n",
    "        memo[i] = memo[i-1] + memo[i-2]\n",
    "\n",
    "    return memo[n]"
   ]
  },
  {
   "cell_type": "code",
   "execution_count": 2,
   "id": "2065b26c",
   "metadata": {},
   "outputs": [
    {
     "name": "stdout",
     "output_type": "stream",
     "text": [
      "10\n",
      "55\n"
     ]
    }
   ],
   "source": [
    "n = int(input())\n",
    "memo = [0 for i in range(n+2)]\n",
    "print(memo_fibo(n))"
   ]
  },
  {
   "cell_type": "code",
   "execution_count": null,
   "id": "471eb636",
   "metadata": {},
   "outputs": [],
   "source": []
  }
 ],
 "metadata": {
  "kernelspec": {
   "display_name": "Python 3 (ipykernel)",
   "language": "python",
   "name": "python3"
  },
  "language_info": {
   "codemirror_mode": {
    "name": "ipython",
    "version": 3
   },
   "file_extension": ".py",
   "mimetype": "text/x-python",
   "name": "python",
   "nbconvert_exporter": "python",
   "pygments_lexer": "ipython3",
   "version": "3.10.6"
  }
 },
 "nbformat": 4,
 "nbformat_minor": 5
}
