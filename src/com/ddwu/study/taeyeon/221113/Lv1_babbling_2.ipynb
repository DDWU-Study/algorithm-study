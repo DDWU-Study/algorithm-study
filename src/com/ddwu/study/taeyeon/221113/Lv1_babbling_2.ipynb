{
 "cells": [
  {
   "cell_type": "code",
   "execution_count": 1,
   "id": "b99141d2",
   "metadata": {},
   "outputs": [],
   "source": [
    "babbling = [\"ayaye\", \"uuu\", \"yeye\", \"yemawoo\", \"ayaayaa\"]"
   ]
  },
  {
   "cell_type": "code",
   "execution_count": 2,
   "id": "6a794763",
   "metadata": {},
   "outputs": [
    {
     "name": "stdout",
     "output_type": "stream",
     "text": [
      "2\n"
     ]
    }
   ],
   "source": [
    "can = [\"aya\", \"ye\", \"woo\", \"ma\"]\n",
    "\n",
    "cnt = 0\n",
    "for b in babbling:\n",
    "    for c in can:\n",
    "        if c * 2 not in b: # 단어 연속이 아니라면\n",
    "            b = b.replace(c, ' ') # 읽은 단어 replace로 대체\n",
    "    if len(b.strip()) == 0: # 한 단어를 모두 읽었다면 count\n",
    "        cnt += 1\n",
    "        \n",
    "print(cnt)"
   ]
  },
  {
   "cell_type": "code",
   "execution_count": null,
   "id": "b8046b81",
   "metadata": {},
   "outputs": [],
   "source": []
  }
 ],
 "metadata": {
  "kernelspec": {
   "display_name": "Python 3 (ipykernel)",
   "language": "python",
   "name": "python3"
  },
  "language_info": {
   "codemirror_mode": {
    "name": "ipython",
    "version": 3
   },
   "file_extension": ".py",
   "mimetype": "text/x-python",
   "name": "python",
   "nbconvert_exporter": "python",
   "pygments_lexer": "ipython3",
   "version": "3.10.6"
  }
 },
 "nbformat": 4,
 "nbformat_minor": 5
}
