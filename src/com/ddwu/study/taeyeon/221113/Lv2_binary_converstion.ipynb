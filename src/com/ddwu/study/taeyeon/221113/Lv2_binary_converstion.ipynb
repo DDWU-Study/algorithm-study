{
 "cells": [
  {
   "cell_type": "code",
   "execution_count": 1,
   "id": "06c63bd3",
   "metadata": {},
   "outputs": [],
   "source": [
    "s = \"110010101001\""
   ]
  },
  {
   "cell_type": "code",
   "execution_count": 2,
   "id": "07d82189",
   "metadata": {},
   "outputs": [
    {
     "name": "stdout",
     "output_type": "stream",
     "text": [
      "[3, 8]\n"
     ]
    }
   ],
   "source": [
    "cnt = 0\n",
    "zero = 0\n",
    "\n",
    "while True:\n",
    "    if s == '1':\n",
    "        break\n",
    "    zero += s.count(\"0\")\n",
    "    s = s.replace(\"0\", \"\")\n",
    "    \n",
    "    s = bin(len(s))[2:]\n",
    "    \n",
    "    cnt += 1\n",
    "\n",
    "answer = [cnt, zero]\n",
    "print(answer)"
   ]
  },
  {
   "cell_type": "code",
   "execution_count": null,
   "id": "67947d18",
   "metadata": {},
   "outputs": [],
   "source": []
  }
 ],
 "metadata": {
  "kernelspec": {
   "display_name": "Python 3 (ipykernel)",
   "language": "python",
   "name": "python3"
  },
  "language_info": {
   "codemirror_mode": {
    "name": "ipython",
    "version": 3
   },
   "file_extension": ".py",
   "mimetype": "text/x-python",
   "name": "python",
   "nbconvert_exporter": "python",
   "pygments_lexer": "ipython3",
   "version": "3.10.6"
  }
 },
 "nbformat": 4,
 "nbformat_minor": 5
}
