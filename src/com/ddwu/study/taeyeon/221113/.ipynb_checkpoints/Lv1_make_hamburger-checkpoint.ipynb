{
 "cells": [
  {
   "cell_type": "code",
   "execution_count": 1,
   "id": "f5e0cd6f",
   "metadata": {},
   "outputs": [],
   "source": [
    "ingredient = [2, 1, 1, 2, 3, 1, 2, 3, 1]"
   ]
  },
  {
   "cell_type": "code",
   "execution_count": 2,
   "id": "dba7c3f7",
   "metadata": {},
   "outputs": [
    {
     "name": "stdout",
     "output_type": "stream",
     "text": [
      "2\n"
     ]
    }
   ],
   "source": [
    "stack = []\n",
    "cnt = 0\n",
    "\n",
    "for i in ingredient:\n",
    "    stack.append(i)\n",
    "\n",
    "    if len(stack) >= 4:\n",
    "        b1 = stack[len(stack) - 4]\n",
    "        v = stack[len(stack) - 3]\n",
    "        m = stack[len(stack) - 2]\n",
    "        b2 = stack[len(stack) - 1]\n",
    "        \n",
    "        if (b2 == 1 and m == 3 and v == 2 and b1 == 1):\n",
    "            stack.pop()\n",
    "            stack.pop()\n",
    "            stack.pop()\n",
    "            stack.pop()\n",
    "            cnt += 1\n",
    "print(cnt)"
   ]
  },
  {
   "cell_type": "code",
   "execution_count": null,
   "id": "3399ee47",
   "metadata": {},
   "outputs": [],
   "source": []
  },
  {
   "cell_type": "code",
   "execution_count": 3,
   "id": "5aa85cca",
   "metadata": {},
   "outputs": [],
   "source": [
    "def solution2(ingredient):\n",
    "    s = []\n",
    "    cnt = 0\n",
    "    \n",
    "    for i in ingredient:\n",
    "        s.append(i)\n",
    "        print(\"s: \", s)\n",
    "        print(\"s[-4:]: \", s[-4:])\n",
    "        print()\n",
    "        while s[-4:] == [1,2,3,1]:\n",
    "            s.pop()\n",
    "            s.pop()\n",
    "            s.pop()\n",
    "            s.pop()\n",
    "            cnt += 1"
   ]
  },
  {
   "cell_type": "code",
   "execution_count": 4,
   "id": "2e901d97",
   "metadata": {},
   "outputs": [
    {
     "name": "stdout",
     "output_type": "stream",
     "text": [
      "s:  [2]\n",
      "s[-4:]:  [2]\n",
      "\n",
      "s:  [2, 1]\n",
      "s[-4:]:  [2, 1]\n",
      "\n",
      "s:  [2, 1, 1]\n",
      "s[-4:]:  [2, 1, 1]\n",
      "\n",
      "s:  [2, 1, 1, 2]\n",
      "s[-4:]:  [2, 1, 1, 2]\n",
      "\n",
      "s:  [2, 1, 1, 2, 3]\n",
      "s[-4:]:  [1, 1, 2, 3]\n",
      "\n",
      "s:  [2, 1, 1, 2, 3, 1]\n",
      "s[-4:]:  [1, 2, 3, 1]\n",
      "\n",
      "s:  [2, 1, 2]\n",
      "s[-4:]:  [2, 1, 2]\n",
      "\n",
      "s:  [2, 1, 2, 3]\n",
      "s[-4:]:  [2, 1, 2, 3]\n",
      "\n",
      "s:  [2, 1, 2, 3, 1]\n",
      "s[-4:]:  [1, 2, 3, 1]\n",
      "\n"
     ]
    }
   ],
   "source": [
    "solution2(ingredient)"
   ]
  },
  {
   "cell_type": "code",
   "execution_count": null,
   "id": "a950fc77",
   "metadata": {},
   "outputs": [],
   "source": []
  }
 ],
 "metadata": {
  "kernelspec": {
   "display_name": "Python 3 (ipykernel)",
   "language": "python",
   "name": "python3"
  },
  "language_info": {
   "codemirror_mode": {
    "name": "ipython",
    "version": 3
   },
   "file_extension": ".py",
   "mimetype": "text/x-python",
   "name": "python",
   "nbconvert_exporter": "python",
   "pygments_lexer": "ipython3",
   "version": "3.10.6"
  }
 },
 "nbformat": 4,
 "nbformat_minor": 5
}
