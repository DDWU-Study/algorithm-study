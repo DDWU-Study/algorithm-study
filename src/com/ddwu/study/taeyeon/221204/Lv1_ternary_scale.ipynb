{
 "cells": [
  {
   "cell_type": "code",
   "execution_count": 21,
   "id": "6948297c",
   "metadata": {},
   "outputs": [],
   "source": [
    "def solution(n):\n",
    "    answer = ''\n",
    "    \n",
    "    while(n >= 1):\n",
    "        rest = n % 3 # 나머지\n",
    "        n = n // 3 # 몫\n",
    "        answer += str(rest) #나머지를 순서대로 저장 (순서대로 저장 = 앞뒤 반전)\n",
    "    \n",
    "    return int(answer, 3) # int()로 10진법 변경"
   ]
  },
  {
   "cell_type": "code",
   "execution_count": 22,
   "id": "74446bc6",
   "metadata": {},
   "outputs": [
    {
     "name": "stdout",
     "output_type": "stream",
     "text": [
      "7\n"
     ]
    }
   ],
   "source": [
    "n = 45\n",
    "print(solution(n))"
   ]
  },
  {
   "cell_type": "code",
   "execution_count": null,
   "id": "a65fe2a2",
   "metadata": {},
   "outputs": [],
   "source": []
  }
 ],
 "metadata": {
  "kernelspec": {
   "display_name": "Python 3 (ipykernel)",
   "language": "python",
   "name": "python3"
  },
  "language_info": {
   "codemirror_mode": {
    "name": "ipython",
    "version": 3
   },
   "file_extension": ".py",
   "mimetype": "text/x-python",
   "name": "python",
   "nbconvert_exporter": "python",
   "pygments_lexer": "ipython3",
   "version": "3.10.6"
  }
 },
 "nbformat": 4,
 "nbformat_minor": 5
}
