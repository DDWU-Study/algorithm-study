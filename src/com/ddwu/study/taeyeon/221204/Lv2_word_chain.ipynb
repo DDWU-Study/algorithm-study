{
 "cells": [
  {
   "cell_type": "code",
   "execution_count": 20,
   "id": "38acbf7f",
   "metadata": {},
   "outputs": [],
   "source": [
    "def solution(n, words):\n",
    "    answer = [0,0] # 번호, 차례\n",
    "    \n",
    "    number = 1 # 1번부터 시작\n",
    "    for idx in range(1, len(words)): # 첫단어는 틀릴 일 없기 때문에 1부터 시작\n",
    "        word = words[idx] # 해당 차례의 단어\n",
    "        number %= n # 번호\n",
    "        if (word in words[0:idx]) or (words[idx-1][-1] != word[0]):\n",
    "            # 이전에 이미 나온 단어이거나 앞사람이 말한 단어의 마지막 문자로 시작하지 않는 경우\n",
    "            answer = [number+1, 1+idx//n]\n",
    "            return answer\n",
    "        number += 1\n",
    "    return answer"
   ]
  },
  {
   "cell_type": "code",
   "execution_count": 21,
   "id": "6ca7dff0",
   "metadata": {},
   "outputs": [
    {
     "name": "stdout",
     "output_type": "stream",
     "text": [
      "[3, 3]\n"
     ]
    }
   ],
   "source": [
    "n = 3\n",
    "words = [\"tank\", \"kick\", \"know\", \"wheel\", \"land\", \"dream\", \"mother\", \"robot\", \"tank\"]\n",
    "print(solution(n, words))"
   ]
  },
  {
   "cell_type": "code",
   "execution_count": null,
   "id": "bb8ed601",
   "metadata": {},
   "outputs": [],
   "source": []
  },
  {
   "cell_type": "code",
   "execution_count": null,
   "id": "ab5d7545",
   "metadata": {},
   "outputs": [],
   "source": [
    "# shortest solution\n",
    "def solution(n, words):\n",
    "    for p in range(1, len(words)):\n",
    "        if words[p][0] != words[p-1][-1] or words[p] in words[:p]: return [(p%n)+1, (p//n)+1]\n",
    "    else:\n",
    "        return [0,0]"
   ]
  }
 ],
 "metadata": {
  "kernelspec": {
   "display_name": "Python 3 (ipykernel)",
   "language": "python",
   "name": "python3"
  },
  "language_info": {
   "codemirror_mode": {
    "name": "ipython",
    "version": 3
   },
   "file_extension": ".py",
   "mimetype": "text/x-python",
   "name": "python",
   "nbconvert_exporter": "python",
   "pygments_lexer": "ipython3",
   "version": "3.10.6"
  }
 },
 "nbformat": 4,
 "nbformat_minor": 5
}
