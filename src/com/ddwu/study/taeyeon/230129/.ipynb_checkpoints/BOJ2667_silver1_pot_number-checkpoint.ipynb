{
 "cells": [
  {
   "cell_type": "code",
   "execution_count": null,
   "id": "b3da0996",
   "metadata": {},
   "outputs": [],
   "source": [
    "# 백준용 input\n",
    "# from sys import stdin\n",
    "# n = int(input())\n",
    "# graph = [[0]*n for _ in range(n)]\n",
    "# visited = [[0]*n for _ in range(n)]\n",
    "\n",
    "# for i in range(n):\n",
    "#     line = stdin.readline().strip()\n",
    "#     for j, b in enumerate(line):\n",
    "#         graph[i][j] = int(b)"
   ]
  },
  {
   "cell_type": "code",
   "execution_count": null,
   "id": "5f21f018",
   "metadata": {},
   "outputs": [],
   "source": [
    "n = int(input())\n",
    "graph = [[0]*n for _ in range(n)]\n",
    "for i in range(n):\n",
    "    graph.append(list(map(int, input())))"
   ]
  },
  {
   "cell_type": "code",
   "execution_count": 58,
   "id": "e0d28bd5",
   "metadata": {},
   "outputs": [],
   "source": [
    "n = 7\n",
    "graph = [[0,1,1,0,1,0,0],[0,1,1,0,1,0,1],[1,1,1,0,1,0,1],[0,0,0,0,1,1,1],[0,1,0,0,0,0,0],[0,1,1,1,1,1,0],[0,1,1,1,0,0,0]]"
   ]
  },
  {
   "cell_type": "code",
   "execution_count": 59,
   "id": "e22d5138",
   "metadata": {},
   "outputs": [],
   "source": [
    "visited = [[0]*n for _ in range(n)]\n",
    "\n",
    "dx = [0,0,1,-1]\n",
    "dy = [1,-1,0,0]\n",
    "\n",
    "def DFS(x, y, cnt):\n",
    "    visited[x][y] = 1\n",
    "    global num\n",
    "    if graph[x][y] == 1:\n",
    "        num += 1\n",
    "    \n",
    "    for i in range(4):\n",
    "        nx = x + dx[i]\n",
    "        ny = y + dy[i]\n",
    "        if 0 <= nx < n and 0 <= ny < n:\n",
    "            if visited[nx][ny] == 0 and graph[nx][ny] == 1:\n",
    "                DFS(nx, ny, cnt)\n",
    "\n",
    "numlist = []\n",
    "num = 0\n",
    "for a in range(n):\n",
    "    for b in range(n):\n",
    "        if graph[a][b] == 1 and visited[a][b] == 0:\n",
    "            DFS(a, b, len(numlist))\n",
    "            numlist.append(num)\n",
    "            num = 0"
   ]
  },
  {
   "cell_type": "code",
   "execution_count": 57,
   "id": "0b6a44e0",
   "metadata": {},
   "outputs": [
    {
     "name": "stdout",
     "output_type": "stream",
     "text": [
      "3\n",
      "7\n",
      "8\n",
      "9\n"
     ]
    }
   ],
   "source": [
    "print(len(numlist))\n",
    "for n in sorted(numlist):\n",
    "    print(n)"
   ]
  },
  {
   "cell_type": "code",
   "execution_count": null,
   "id": "f0bbae5e",
   "metadata": {},
   "outputs": [],
   "source": []
  }
 ],
 "metadata": {
  "kernelspec": {
   "display_name": "Python 3 (ipykernel)",
   "language": "python",
   "name": "python3"
  },
  "language_info": {
   "codemirror_mode": {
    "name": "ipython",
    "version": 3
   },
   "file_extension": ".py",
   "mimetype": "text/x-python",
   "name": "python",
   "nbconvert_exporter": "python",
   "pygments_lexer": "ipython3",
   "version": "3.10.6"
  }
 },
 "nbformat": 4,
 "nbformat_minor": 5
}
