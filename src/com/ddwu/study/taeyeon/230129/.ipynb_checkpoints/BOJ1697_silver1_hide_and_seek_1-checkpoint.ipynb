{
 "cells": [
  {
   "cell_type": "code",
   "execution_count": 10,
   "id": "a97bea20",
   "metadata": {},
   "outputs": [],
   "source": [
    "import sys\n",
    "from collections import deque"
   ]
  },
  {
   "cell_type": "code",
   "execution_count": 11,
   "id": "5458914b",
   "metadata": {},
   "outputs": [
    {
     "name": "stdout",
     "output_type": "stream",
     "text": [
      "5\n",
      "17\n"
     ]
    }
   ],
   "source": [
    "n = int(input())\n",
    "k = int(input())\n",
    "# n, k = map(int, sys.stdin.readline().split())"
   ]
  },
  {
   "cell_type": "code",
   "execution_count": 12,
   "id": "ea6e9abb",
   "metadata": {},
   "outputs": [
    {
     "name": "stdout",
     "output_type": "stream",
     "text": [
      "4\n"
     ]
    }
   ],
   "source": [
    "def BFS(v):\n",
    "    q = deque([v])\n",
    "    while q:\n",
    "        v = q.popleft()\n",
    "        if v == k:\n",
    "            return array[v]\n",
    "        for next_v in (v-1, v+1, 2*v):\n",
    "            if 0 <= next_v < MAX and not array[next_v]:\n",
    "                array[next_v] = array[v] + 1\n",
    "                q.append(next_v)\n",
    "                \n",
    "MAX = 100001\n",
    "array = [0] * MAX\n",
    "print(BFS(n))"
   ]
  },
  {
   "cell_type": "code",
   "execution_count": null,
   "id": "e0ec5862",
   "metadata": {},
   "outputs": [],
   "source": []
  }
 ],
 "metadata": {
  "kernelspec": {
   "display_name": "Python 3 (ipykernel)",
   "language": "python",
   "name": "python3"
  },
  "language_info": {
   "codemirror_mode": {
    "name": "ipython",
    "version": 3
   },
   "file_extension": ".py",
   "mimetype": "text/x-python",
   "name": "python",
   "nbconvert_exporter": "python",
   "pygments_lexer": "ipython3",
   "version": "3.10.6"
  }
 },
 "nbformat": 4,
 "nbformat_minor": 5
}
