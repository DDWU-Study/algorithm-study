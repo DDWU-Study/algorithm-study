{
 "cells": [
  {
   "cell_type": "code",
   "execution_count": 1,
   "id": "c8c906eb",
   "metadata": {},
   "outputs": [],
   "source": [
    "begin1 = \"hit\"\n",
    "target1 = \"cog\"\n",
    "words1 = [\"hot\", \"dot\", \"dog\", \"lot\", \"log\", \"cog\"]\n",
    "\n",
    "begin2 = \"hit\"\n",
    "target2 = \"cog\"\n",
    "words2 = [\"hot\", \"dot\", \"dog\", \"lot\", \"log\"]"
   ]
  },
  {
   "cell_type": "code",
   "execution_count": 3,
   "id": "f178a990",
   "metadata": {},
   "outputs": [],
   "source": [
    "global answer\n",
    "def dfs(begin, target, words, visit):\n",
    "    answer = 0\n",
    "    stacks = [begin]\n",
    "    while stacks:\n",
    "        stack = stacks.pop()\n",
    "        if stack == target:\n",
    "            return answer\n",
    "        \n",
    "        for i in range(len(words)):\n",
    "            if len([j for j in range(len(words[i])) if words[i][j] != stack[j]]) == 1:\n",
    "                \n",
    "                if visit[i] != 0:\n",
    "                    continue\n",
    "                visit[i] = 1\n",
    "                stacks.append(words[i])\n",
    "        answer += 1\n",
    "    return answer\n",
    "\n",
    "def solution(begin, target, words):\n",
    "    if target not in words:\n",
    "        return 0\n",
    "    visit = [0 for i in words]\n",
    "    answer = dfs(begin, target, words, visit)\n",
    "    return answer"
   ]
  },
  {
   "cell_type": "code",
   "execution_count": 4,
   "id": "f8344760",
   "metadata": {},
   "outputs": [
    {
     "data": {
      "text/plain": [
       "4"
      ]
     },
     "execution_count": 4,
     "metadata": {},
     "output_type": "execute_result"
    }
   ],
   "source": [
    "solution(begin1, target1, words1)"
   ]
  },
  {
   "cell_type": "code",
   "execution_count": 5,
   "id": "d2909181",
   "metadata": {},
   "outputs": [
    {
     "data": {
      "text/plain": [
       "0"
      ]
     },
     "execution_count": 5,
     "metadata": {},
     "output_type": "execute_result"
    }
   ],
   "source": [
    "solution(begin2, target2, words2)"
   ]
  },
  {
   "cell_type": "code",
   "execution_count": null,
   "id": "53ea1e2f",
   "metadata": {},
   "outputs": [],
   "source": []
  }
 ],
 "metadata": {
  "kernelspec": {
   "display_name": "Python 3 (ipykernel)",
   "language": "python",
   "name": "python3"
  },
  "language_info": {
   "codemirror_mode": {
    "name": "ipython",
    "version": 3
   },
   "file_extension": ".py",
   "mimetype": "text/x-python",
   "name": "python",
   "nbconvert_exporter": "python",
   "pygments_lexer": "ipython3",
   "version": "3.10.6"
  }
 },
 "nbformat": 4,
 "nbformat_minor": 5
}
