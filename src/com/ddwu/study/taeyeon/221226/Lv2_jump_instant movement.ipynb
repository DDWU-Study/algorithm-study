{
 "cells": [
  {
   "cell_type": "code",
   "execution_count": 4,
   "id": "2db0aa4c",
   "metadata": {},
   "outputs": [],
   "source": [
    "n1 = 5\n",
    "n2 = 6\n",
    "n3 = 5000"
   ]
  },
  {
   "cell_type": "code",
   "execution_count": 5,
   "id": "12cc57e8",
   "metadata": {},
   "outputs": [],
   "source": [
    "def solution(n):\n",
    "    answer = 1\n",
    "    while n > 2:\n",
    "        if n % 2 == 1:\n",
    "            n -= 1\n",
    "            answer += 1\n",
    "        else:\n",
    "            n /= 2\n",
    "            \n",
    "    return answer"
   ]
  },
  {
   "cell_type": "code",
   "execution_count": 11,
   "id": "d4addc78",
   "metadata": {},
   "outputs": [
    {
     "data": {
      "text/plain": [
       "2"
      ]
     },
     "execution_count": 11,
     "metadata": {},
     "output_type": "execute_result"
    }
   ],
   "source": [
    "solution(n1)"
   ]
  },
  {
   "cell_type": "code",
   "execution_count": 12,
   "id": "af325167",
   "metadata": {},
   "outputs": [
    {
     "data": {
      "text/plain": [
       "2"
      ]
     },
     "execution_count": 12,
     "metadata": {},
     "output_type": "execute_result"
    }
   ],
   "source": [
    "solution(n2)"
   ]
  },
  {
   "cell_type": "code",
   "execution_count": 13,
   "id": "1cb267a1",
   "metadata": {},
   "outputs": [
    {
     "data": {
      "text/plain": [
       "5"
      ]
     },
     "execution_count": 13,
     "metadata": {},
     "output_type": "execute_result"
    }
   ],
   "source": [
    "solution(n3)"
   ]
  },
  {
   "cell_type": "code",
   "execution_count": 14,
   "id": "63e8949c",
   "metadata": {},
   "outputs": [],
   "source": [
    "def solution2(n):\n",
    "    return bin(n).count('1')"
   ]
  },
  {
   "cell_type": "code",
   "execution_count": 15,
   "id": "62c948dd",
   "metadata": {},
   "outputs": [
    {
     "data": {
      "text/plain": [
       "2"
      ]
     },
     "execution_count": 15,
     "metadata": {},
     "output_type": "execute_result"
    }
   ],
   "source": [
    "solution2(n1)"
   ]
  },
  {
   "cell_type": "code",
   "execution_count": null,
   "id": "9bf82804",
   "metadata": {},
   "outputs": [],
   "source": []
  }
 ],
 "metadata": {
  "kernelspec": {
   "display_name": "Python 3 (ipykernel)",
   "language": "python",
   "name": "python3"
  },
  "language_info": {
   "codemirror_mode": {
    "name": "ipython",
    "version": 3
   },
   "file_extension": ".py",
   "mimetype": "text/x-python",
   "name": "python",
   "nbconvert_exporter": "python",
   "pygments_lexer": "ipython3",
   "version": "3.10.6"
  }
 },
 "nbformat": 4,
 "nbformat_minor": 5
}
