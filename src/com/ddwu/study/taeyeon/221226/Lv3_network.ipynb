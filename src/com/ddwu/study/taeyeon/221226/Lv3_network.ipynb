{
 "cells": [
  {
   "cell_type": "code",
   "execution_count": 9,
   "id": "d7b48868",
   "metadata": {},
   "outputs": [],
   "source": [
    "n1 = 3\n",
    "computers1 = [[1, 1, 0], [1, 1, 0], [0, 0, 1]]\n",
    "\n",
    "n2 = 3\n",
    "computers2 = [[1, 1, 0], [1, 1, 1], [0, 1, 1]]"
   ]
  },
  {
   "cell_type": "code",
   "execution_count": 10,
   "id": "a3a22970",
   "metadata": {},
   "outputs": [],
   "source": [
    "def solution(n, computers):            \n",
    "    \n",
    "    def DFS(i):\n",
    "        visited[i] = 1\n",
    "        for a in range(n):\n",
    "            if computers[i][a] and not visited[a]:\n",
    "                DFS(a)      \n",
    "                \n",
    "    answer = 0\n",
    "    visited = [0 for i in range(len(computers))]\n",
    "    for i in range(n):\n",
    "        if not visited[i]:\n",
    "            DFS(i)\n",
    "            answer += 1\n",
    "        \n",
    "    return answer"
   ]
  },
  {
   "cell_type": "code",
   "execution_count": 11,
   "id": "37cb8491",
   "metadata": {},
   "outputs": [
    {
     "data": {
      "text/plain": [
       "2"
      ]
     },
     "execution_count": 11,
     "metadata": {},
     "output_type": "execute_result"
    }
   ],
   "source": [
    "solution(n1, computers1)"
   ]
  },
  {
   "cell_type": "code",
   "execution_count": 12,
   "id": "0356140e",
   "metadata": {},
   "outputs": [
    {
     "data": {
      "text/plain": [
       "1"
      ]
     },
     "execution_count": 12,
     "metadata": {},
     "output_type": "execute_result"
    }
   ],
   "source": [
    "solution(n2, computers2)"
   ]
  },
  {
   "cell_type": "code",
   "execution_count": null,
   "id": "47d0c4f3",
   "metadata": {},
   "outputs": [],
   "source": []
  }
 ],
 "metadata": {
  "kernelspec": {
   "display_name": "Python 3 (ipykernel)",
   "language": "python",
   "name": "python3"
  },
  "language_info": {
   "codemirror_mode": {
    "name": "ipython",
    "version": 3
   },
   "file_extension": ".py",
   "mimetype": "text/x-python",
   "name": "python",
   "nbconvert_exporter": "python",
   "pygments_lexer": "ipython3",
   "version": "3.10.6"
  }
 },
 "nbformat": 4,
 "nbformat_minor": 5
}
