{
 "cells": [
  {
   "cell_type": "code",
   "execution_count": 2,
   "id": "7f665dab",
   "metadata": {},
   "outputs": [],
   "source": [
    "N = 8\n",
    "A = 4\n",
    "B = 7"
   ]
  },
  {
   "cell_type": "code",
   "execution_count": 3,
   "id": "3c8cd184",
   "metadata": {},
   "outputs": [],
   "source": [
    "def solution(n,a,b): \n",
    "    answer = 0\n",
    "    while a != b: \n",
    "        answer += 1\n",
    "            # 1을 더해서 2로 나누었을 때, 자리수를 맞춰줌\n",
    "            # 예) 1, 2의 경우는 2, 3으로 해서 나눴을때 몫이 1이 되도록\n",
    "        a, b = (a+1)//2, (b+1)//2\n",
    "    return answer"
   ]
  },
  {
   "cell_type": "code",
   "execution_count": 4,
   "id": "c82ba172",
   "metadata": {},
   "outputs": [
    {
     "data": {
      "text/plain": [
       "3"
      ]
     },
     "execution_count": 4,
     "metadata": {},
     "output_type": "execute_result"
    }
   ],
   "source": [
    "solution(N, A, B)"
   ]
  },
  {
   "cell_type": "code",
   "execution_count": null,
   "id": "d46d4513",
   "metadata": {},
   "outputs": [],
   "source": []
  }
 ],
 "metadata": {
  "kernelspec": {
   "display_name": "Python 3 (ipykernel)",
   "language": "python",
   "name": "python3"
  },
  "language_info": {
   "codemirror_mode": {
    "name": "ipython",
    "version": 3
   },
   "file_extension": ".py",
   "mimetype": "text/x-python",
   "name": "python",
   "nbconvert_exporter": "python",
   "pygments_lexer": "ipython3",
   "version": "3.10.6"
  }
 },
 "nbformat": 4,
 "nbformat_minor": 5
}
