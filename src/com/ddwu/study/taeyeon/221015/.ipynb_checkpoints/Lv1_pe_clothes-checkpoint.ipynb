{
 "cells": [
  {
   "cell_type": "code",
   "execution_count": 33,
   "id": "37ba4248",
   "metadata": {},
   "outputs": [],
   "source": [
    "n = 6\n",
    "lost = [2,3,4,5]\n",
    "reserve = [1,3,6]"
   ]
  },
  {
   "cell_type": "code",
   "execution_count": 34,
   "id": "b76d8e12",
   "metadata": {},
   "outputs": [
    {
     "name": "stdout",
     "output_type": "stream",
     "text": [
      "{1, 6}\n"
     ]
    }
   ],
   "source": [
    "reserve_del = set(reserve)-set(lost)\n",
    "print(reserve_del)"
   ]
  },
  {
   "cell_type": "code",
   "execution_count": 35,
   "id": "cdde1358",
   "metadata": {},
   "outputs": [
    {
     "name": "stdout",
     "output_type": "stream",
     "text": [
      "{2, 4, 5}\n"
     ]
    }
   ],
   "source": [
    "lost_del = set(lost)-set(reserve)\n",
    "print(lost_del)"
   ]
  },
  {
   "cell_type": "code",
   "execution_count": 36,
   "id": "787e26f1",
   "metadata": {},
   "outputs": [],
   "source": [
    "for i in reserve_del:\n",
    "    if i-1 in lost_del:\n",
    "        lost_del.remove(i-1)\n",
    "    \n",
    "    elif i+1 in lost_del:\n",
    "        lost_del.remove(i+1)\n",
    "    \n",
    "answer = n - len(lost_del)"
   ]
  },
  {
   "cell_type": "code",
   "execution_count": 37,
   "id": "33e70c51",
   "metadata": {},
   "outputs": [
    {
     "name": "stdout",
     "output_type": "stream",
     "text": [
      "5\n"
     ]
    }
   ],
   "source": [
    "print(answer)"
   ]
  },
  {
   "cell_type": "code",
   "execution_count": null,
   "id": "c597c717",
   "metadata": {},
   "outputs": [],
   "source": []
  },
  {
   "cell_type": "code",
   "execution_count": null,
   "id": "73479562",
   "metadata": {},
   "outputs": [],
   "source": [
    "reserve_del = set(reserve)-set(lost)\n",
    "lost_del = set(lost)-set(reserve)\n",
    "for i in reserve_del:\n",
    "    if i-1 in lost_del:\n",
    "        lost_del.remove(i-1)\n",
    "    \n",
    "    elif i+1 in lost_del:\n",
    "        lost_del.remove(i+1)\n",
    "    \n",
    "answer = n - len(lost_del)"
   ]
  }
 ],
 "metadata": {
  "kernelspec": {
   "display_name": "Python 3 (ipykernel)",
   "language": "python",
   "name": "python3"
  },
  "language_info": {
   "codemirror_mode": {
    "name": "ipython",
    "version": 3
   },
   "file_extension": ".py",
   "mimetype": "text/x-python",
   "name": "python",
   "nbconvert_exporter": "python",
   "pygments_lexer": "ipython3",
   "version": "3.10.6"
  }
 },
 "nbformat": 4,
 "nbformat_minor": 5
}
