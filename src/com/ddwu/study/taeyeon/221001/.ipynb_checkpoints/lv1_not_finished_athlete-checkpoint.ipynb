{
 "cells": [
  {
   "cell_type": "code",
   "execution_count": 24,
   "id": "5a6f2252",
   "metadata": {},
   "outputs": [],
   "source": [
    "participant = [\"mislav\", \"stanko\", \"mislav\", \"ana\"]\n",
    "completion = [\"stanko\", \"ana\", \"mislav\"]"
   ]
  },
  {
   "cell_type": "code",
   "execution_count": 25,
   "id": "e779a895",
   "metadata": {},
   "outputs": [],
   "source": [
    "# 접근1. 동명이인 (중복문제) 해결 X\n",
    "# answer = list()\n",
    "# answer = list(set(participant) - set(completion))\n",
    "# print(answer)"
   ]
  },
  {
   "cell_type": "code",
   "execution_count": 30,
   "id": "1b4b7453",
   "metadata": {},
   "outputs": [
    {
     "name": "stdout",
     "output_type": "stream",
     "text": [
      "mislav\n"
     ]
    }
   ],
   "source": [
    "answer = list()\n",
    "import collections\n",
    "answer = collections.Counter(participant) - collections.Counter(completion)\n",
    "list(answer.keys())[0]\n",
    "print(list(answer.keys())[0])"
   ]
  },
  {
   "cell_type": "code",
   "execution_count": 31,
   "id": "3664a929",
   "metadata": {},
   "outputs": [
    {
     "name": "stdout",
     "output_type": "stream",
     "text": [
      "Counter({'mislav': 2, 'stanko': 1, 'ana': 1})\n"
     ]
    }
   ],
   "source": [
    "print(collections.Counter(participant))"
   ]
  },
  {
   "cell_type": "code",
   "execution_count": 32,
   "id": "9a9423fc",
   "metadata": {},
   "outputs": [
    {
     "name": "stdout",
     "output_type": "stream",
     "text": [
      "Counter({'stanko': 1, 'ana': 1, 'mislav': 1})\n"
     ]
    }
   ],
   "source": [
    "print(collections.Counter(completion))"
   ]
  },
  {
   "cell_type": "code",
   "execution_count": 33,
   "id": "36ec9c48",
   "metadata": {},
   "outputs": [
    {
     "name": "stdout",
     "output_type": "stream",
     "text": [
      "Counter({'mislav': 1})\n"
     ]
    }
   ],
   "source": [
    "print(collections.Counter(participant) - collections.Counter(completion))"
   ]
  }
 ],
 "metadata": {
  "kernelspec": {
   "display_name": "Python 3 (ipykernel)",
   "language": "python",
   "name": "python3"
  },
  "language_info": {
   "codemirror_mode": {
    "name": "ipython",
    "version": 3
   },
   "file_extension": ".py",
   "mimetype": "text/x-python",
   "name": "python",
   "nbconvert_exporter": "python",
   "pygments_lexer": "ipython3",
   "version": "3.10.6"
  }
 },
 "nbformat": 4,
 "nbformat_minor": 5
}
