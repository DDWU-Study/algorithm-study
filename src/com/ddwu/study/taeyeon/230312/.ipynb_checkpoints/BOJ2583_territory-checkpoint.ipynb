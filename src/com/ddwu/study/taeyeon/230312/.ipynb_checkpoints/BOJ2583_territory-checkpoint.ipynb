{
 "cells": [
  {
   "cell_type": "code",
   "execution_count": 1,
   "id": "4607bd27",
   "metadata": {},
   "outputs": [
    {
     "name": "stdout",
     "output_type": "stream",
     "text": [
      "5 7 3\n",
      "0 2 4 4\n",
      "1 1 2 5\n",
      "4 0 6 2\n",
      "3\n",
      "1 7 13 "
     ]
    }
   ],
   "source": [
    "# BFS\n",
    "\n",
    "from collections import deque\n",
    "\n",
    "m, n, k = map(int, input().split())\n",
    "graph = [[0] * n for _ in range(m)]\n",
    "for _ in range(k):\n",
    "    x1, y1, x2, y2 = map(int, input().split())\n",
    "    for i in range(x1, x2):\n",
    "        for j in range(m - y1 - 1, m - y2 - 1, -1):\n",
    "            graph[j][i] = 1\n",
    "\n",
    "dx = [-1, 1, 0, 0]\n",
    "dy = [0, 0, -1, 1]\n",
    "\n",
    "def bfs(x, y):\n",
    "    global answer\n",
    "    queue = deque()\n",
    "    queue.append((x, y))\n",
    "    graph[x][y] = 1\n",
    "    size = 1\n",
    "    while queue:\n",
    "        x, y = queue.popleft()\n",
    "        for i in range(4):\n",
    "            nx = x + dx[i]\n",
    "            ny = y + dy[i]\n",
    "            if 0 <= nx < m and 0 <= ny < n and graph[nx][ny] == 0:\n",
    "                graph[nx][ny] = 1\n",
    "                queue.append((nx, ny))\n",
    "                size += 1\n",
    "    result.append(size)\n",
    "\n",
    "result = []\n",
    "for i in range(m):\n",
    "    for j in range(n):\n",
    "        if graph[i][j] == 0:\n",
    "            bfs(i, j)\n",
    "            \n",
    "result.sort()\n",
    "print(len(result))\n",
    "for i in result:\n",
    "    print(i, end=' ')"
   ]
  },
  {
   "cell_type": "code",
   "execution_count": null,
   "id": "e13e202c",
   "metadata": {},
   "outputs": [],
   "source": []
  }
 ],
 "metadata": {
  "kernelspec": {
   "display_name": "Python 3 (ipykernel)",
   "language": "python",
   "name": "python3"
  },
  "language_info": {
   "codemirror_mode": {
    "name": "ipython",
    "version": 3
   },
   "file_extension": ".py",
   "mimetype": "text/x-python",
   "name": "python",
   "nbconvert_exporter": "python",
   "pygments_lexer": "ipython3",
   "version": "3.10.6"
  }
 },
 "nbformat": 4,
 "nbformat_minor": 5
}
