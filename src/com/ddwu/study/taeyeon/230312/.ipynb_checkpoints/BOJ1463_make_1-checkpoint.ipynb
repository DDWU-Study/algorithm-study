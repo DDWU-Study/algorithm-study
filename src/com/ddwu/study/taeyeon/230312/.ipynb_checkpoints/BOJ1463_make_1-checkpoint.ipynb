{
 "cells": [
  {
   "cell_type": "code",
   "execution_count": 1,
   "id": "391f4bc5",
   "metadata": {},
   "outputs": [
    {
     "name": "stdout",
     "output_type": "stream",
     "text": [
      "2\n",
      "1\n"
     ]
    }
   ],
   "source": [
    "n = int(input())\n",
    "\n",
    "dp = [0 for _ in range(n+1)]\n",
    "\n",
    "for i in range(2, n+1):\n",
    "    dp[i] = dp[i-1] + 1  \n",
    "\n",
    "    if i%2 == 0 and dp[i] > dp[i//2] + 1 :\n",
    "        dp[i] = dp[i//2]+1\n",
    "        \n",
    "    if i%3 == 0 and dp[i] > dp[i//3] + 1 :\n",
    "        dp[i] = dp[i//3] + 1\n",
    "        \n",
    "print(dp[n])"
   ]
  },
  {
   "cell_type": "markdown",
   "id": "31310213",
   "metadata": {},
   "source": []
  }
 ],
 "metadata": {
  "kernelspec": {
   "display_name": "Python 3 (ipykernel)",
   "language": "python",
   "name": "python3"
  },
  "language_info": {
   "codemirror_mode": {
    "name": "ipython",
    "version": 3
   },
   "file_extension": ".py",
   "mimetype": "text/x-python",
   "name": "python",
   "nbconvert_exporter": "python",
   "pygments_lexer": "ipython3",
   "version": "3.10.6"
  }
 },
 "nbformat": 4,
 "nbformat_minor": 5
}
