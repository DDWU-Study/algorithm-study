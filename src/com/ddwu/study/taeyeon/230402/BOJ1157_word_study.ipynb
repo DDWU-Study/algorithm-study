{
 "cells": [
  {
   "cell_type": "code",
   "execution_count": 50,
   "id": "11812752",
   "metadata": {},
   "outputs": [
    {
     "name": "stdout",
     "output_type": "stream",
     "text": [
      "ASDFasdfA\n"
     ]
    }
   ],
   "source": [
    "word = input().upper()"
   ]
  },
  {
   "cell_type": "code",
   "execution_count": 51,
   "id": "4455b42e",
   "metadata": {},
   "outputs": [
    {
     "name": "stdout",
     "output_type": "stream",
     "text": [
      "3\n",
      "2\n",
      "2\n",
      "2\n"
     ]
    }
   ],
   "source": [
    "cnt_dict = dict()\n",
    "for w in word:\n",
    "    if w in cnt_dict:\n",
    "        continue\n",
    "    cnt_dict[w] = word.count(w)\n",
    "    print(word.count(w))"
   ]
  },
  {
   "cell_type": "code",
   "execution_count": 52,
   "id": "a4c9e3d9",
   "metadata": {},
   "outputs": [
    {
     "name": "stdout",
     "output_type": "stream",
     "text": [
      "{'A': 3, 'S': 2, 'D': 2, 'F': 2}\n"
     ]
    }
   ],
   "source": [
    "print(cnt_dict)"
   ]
  },
  {
   "cell_type": "code",
   "execution_count": 53,
   "id": "c37fb092",
   "metadata": {},
   "outputs": [
    {
     "name": "stdout",
     "output_type": "stream",
     "text": [
      "[3, 2, 2, 2]\n",
      "[3]\n"
     ]
    }
   ],
   "source": [
    "result = list()\n",
    "for c in cnt_dict:\n",
    "    result.append(cnt_dict[c])\n",
    "\n",
    "print(result)\n",
    "result = [item for item in result if item == max(result)]\n",
    "print(result)"
   ]
  },
  {
   "cell_type": "code",
   "execution_count": 55,
   "id": "264c0bd7",
   "metadata": {},
   "outputs": [
    {
     "name": "stdout",
     "output_type": "stream",
     "text": [
      "A\n"
     ]
    }
   ],
   "source": [
    "if len(result) == 1:\n",
    "    print(max(cnt_dict, key=cnt_dict.get))\n",
    "else: \n",
    "    print(\"?\")"
   ]
  },
  {
   "cell_type": "code",
   "execution_count": null,
   "id": "39791b8f",
   "metadata": {},
   "outputs": [],
   "source": []
  },
  {
   "cell_type": "code",
   "execution_count": 56,
   "id": "202c0e8a",
   "metadata": {},
   "outputs": [
    {
     "name": "stdout",
     "output_type": "stream",
     "text": [
      "asdfASDFa\n",
      "A\n"
     ]
    }
   ],
   "source": [
    "word = input().upper()\n",
    "\n",
    "cnt_dict = dict()\n",
    "for w in word:\n",
    "    if w in cnt_dict:\n",
    "        continue\n",
    "    cnt_dict[w] = word.count(w)\n",
    "    \n",
    "result = list()\n",
    "for c in cnt_dict:\n",
    "    result.append(cnt_dict[c])\n",
    "\n",
    "result = [item for item in result if item == max(result)]\n",
    "\n",
    "if len(result) == 1:\n",
    "    print(max(cnt_dict, key=cnt_dict.get))\n",
    "else: \n",
    "    print(\"?\")"
   ]
  },
  {
   "cell_type": "code",
   "execution_count": null,
   "id": "14c8c2b4",
   "metadata": {},
   "outputs": [],
   "source": []
  }
 ],
 "metadata": {
  "kernelspec": {
   "display_name": "Python 3 (ipykernel)",
   "language": "python",
   "name": "python3"
  },
  "language_info": {
   "codemirror_mode": {
    "name": "ipython",
    "version": 3
   },
   "file_extension": ".py",
   "mimetype": "text/x-python",
   "name": "python",
   "nbconvert_exporter": "python",
   "pygments_lexer": "ipython3",
   "version": "3.10.6"
  }
 },
 "nbformat": 4,
 "nbformat_minor": 5
}
