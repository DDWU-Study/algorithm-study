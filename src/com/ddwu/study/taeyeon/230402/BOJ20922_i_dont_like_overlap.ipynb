{
 "cells": [
  {
   "cell_type": "code",
   "execution_count": null,
   "id": "0386430e",
   "metadata": {},
   "outputs": [],
   "source": [
    "from sys import stdin\n",
    "from collections import defaultdict\n",
    "\n",
    "def solution(N, K, A):\n",
    "    answer = 0\n",
    "    start, end = 0, 0\n",
    "\n",
    "    # [1] 수열에 주어진 각 정수의 개수\n",
    "    numberCount = defaultdict(int)\n",
    "\n",
    "    # [2] 투 포인터\n",
    "    while end < N:\n",
    "        if numberCount[A[end]] >= K:\n",
    "            numberCount[A[start]] -= 1\n",
    "            start += 1\n",
    "        else:\n",
    "            numberCount[A[end]] += 1\n",
    "            end += 1\n",
    "            answer = max(answer, end - start)\n",
    "\n",
    "    return answer\n",
    "\n",
    "# input\n",
    "N, K = map(int,stdin.readline().split())\n",
    "A = list(map(int,stdin.readline().split()))\n",
    "\n",
    "# result\n",
    "result = solution(N, K, A)\n",
    "print(result)"
   ]
  },
  {
   "cell_type": "code",
   "execution_count": null,
   "id": "945d5eb3",
   "metadata": {},
   "outputs": [],
   "source": []
  },
  {
   "cell_type": "code",
   "execution_count": 5,
   "id": "60a3f553",
   "metadata": {},
   "outputs": [
    {
     "name": "stdout",
     "output_type": "stream",
     "text": [
      "9 2\n",
      "3 2 5 5 6 4 4 5 7\n"
     ]
    }
   ],
   "source": [
    "N, K = map(int, input().split())\n",
    "A = list(map(int, input().split()))"
   ]
  },
  {
   "cell_type": "code",
   "execution_count": 6,
   "id": "73472f44",
   "metadata": {},
   "outputs": [
    {
     "name": "stdout",
     "output_type": "stream",
     "text": [
      "9 2 [3, 2, 5, 5, 6, 4, 4, 5, 7]\n"
     ]
    }
   ],
   "source": [
    "print(N, K, A)"
   ]
  },
  {
   "cell_type": "code",
   "execution_count": null,
   "id": "e375a54f",
   "metadata": {},
   "outputs": [],
   "source": []
  }
 ],
 "metadata": {
  "kernelspec": {
   "display_name": "Python 3 (ipykernel)",
   "language": "python",
   "name": "python3"
  },
  "language_info": {
   "codemirror_mode": {
    "name": "ipython",
    "version": 3
   },
   "file_extension": ".py",
   "mimetype": "text/x-python",
   "name": "python",
   "nbconvert_exporter": "python",
   "pygments_lexer": "ipython3",
   "version": "3.10.6"
  }
 },
 "nbformat": 4,
 "nbformat_minor": 5
}
