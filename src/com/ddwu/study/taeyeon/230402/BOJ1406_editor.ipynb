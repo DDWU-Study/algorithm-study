{
 "cells": [
  {
   "cell_type": "code",
   "execution_count": 50,
   "id": "42af261a",
   "metadata": {},
   "outputs": [
    {
     "name": "stdout",
     "output_type": "stream",
     "text": [
      "abcd\n",
      "3\n",
      "P x\n",
      "L\n",
      "P y\n"
     ]
    }
   ],
   "source": [
    "input_str = input()\n",
    "num_cmd = int(input())\n",
    "\n",
    "cmd_dict = dict()\n",
    "for i in range(num_cmd):\n",
    "    cmd = input()\n",
    "\n",
    "    cmd_dict[i] = cmd"
   ]
  },
  {
   "cell_type": "code",
   "execution_count": 51,
   "id": "8ce8586d",
   "metadata": {},
   "outputs": [
    {
     "name": "stdout",
     "output_type": "stream",
     "text": [
      "{0: 'P x', 1: 'L', 2: 'P y'}\n"
     ]
    }
   ],
   "source": [
    "print(cmd_dict)"
   ]
  },
  {
   "cell_type": "code",
   "execution_count": 164,
   "id": "965ea2eb",
   "metadata": {},
   "outputs": [
    {
     "name": "stdout",
     "output_type": "stream",
     "text": [
      "4 ['a', 'b', 'c', 'd', ''] d\n",
      "===\n",
      "0 P x\n",
      "5 ['a', 'b', 'c', 'd', 'x', ''] x\n",
      "=\n",
      "1 L\n",
      "4 ['a', 'b', 'c', 'd', 'x', ''] d\n",
      "=\n",
      "2 P y\n",
      "5 ['a', 'b', 'c', 'd', 'y', ''] y\n",
      "=\n"
     ]
    }
   ],
   "source": [
    "str = list(input_str)\n",
    "str.append(\"\")\n",
    "cursor = len(str)-1\n",
    "print(cursor, str, str[cursor-1]) # str[cursor-1] -> 커서 왼쪽 글자\n",
    "print(\"===\")\n",
    "\n",
    "for i in cmd_dict: \n",
    "    if cmd_dict[i].split()[0] == 'L':\n",
    "        print(i, 'L')\n",
    "        cursor -= 1\n",
    "        print(cursor, str, str[cursor-1])\n",
    "        print(\"=\")\n",
    "    elif cmd_dict[i].split()[0] == 'D':\n",
    "        print(i, 'D')\n",
    "        \n",
    "    elif cmd_dict[i].split()[0] == 'B':\n",
    "        print(i, 'B')\n",
    "        \n",
    "    elif cmd_dict[i].split()[0] == 'P':\n",
    "        print(i, 'P', cmd_dict[i].split()[-1])\n",
    "        if str[cursor] == '':\n",
    "            str[cursor]=cmd_dict[i].split()[-1]\n",
    "            str.append('')\n",
    "            \n",
    "        else:\n",
    "            \n",
    "        cursor += 1\n",
    "\n",
    "        print(cursor, str, str[cursor-1])\n",
    "        print(\"=\")"
   ]
  },
  {
   "cell_type": "code",
   "execution_count": 165,
   "id": "7bd28822",
   "metadata": {},
   "outputs": [
    {
     "name": "stdout",
     "output_type": "stream",
     "text": [
      "['a', 'b', 'c', 'd', 'y', '']\n"
     ]
    }
   ],
   "source": [
    "print(str)"
   ]
  },
  {
   "cell_type": "code",
   "execution_count": null,
   "id": "2890f5d0",
   "metadata": {},
   "outputs": [],
   "source": []
  },
  {
   "cell_type": "code",
   "execution_count": null,
   "id": "c1361d59",
   "metadata": {},
   "outputs": [],
   "source": []
  },
  {
   "cell_type": "code",
   "execution_count": null,
   "id": "4f755edc",
   "metadata": {},
   "outputs": [],
   "source": []
  },
  {
   "cell_type": "code",
   "execution_count": null,
   "id": "f2afcca5",
   "metadata": {},
   "outputs": [],
   "source": [
    "import sys\n",
    "\n",
    "st1 = list(sys.stdin.readline().rstrip())\n",
    "st2 = []\n",
    "\n",
    "for _ in range(int(sys.stdin.readline())):\n",
    "    command = list(sys.stdin.readline().split())\n",
    "    if command[0] == 'L':\n",
    "        if st1:\n",
    "            st2.append(st1.pop())\n",
    "            \n",
    "    elif command[0] == 'D':\n",
    "        if st2:\n",
    "            st1.append(st2.pop())\n",
    "\n",
    "    elif command[0] == 'B':\n",
    "        if st1:\n",
    "            st1.pop()\n",
    "            \n",
    "    else:\n",
    "        st1.append(command[1])\n",
    "        \n",
    "st1.extend(reversed(st2))\n",
    "print(''.join(st1))"
   ]
  }
 ],
 "metadata": {
  "kernelspec": {
   "display_name": "Python 3 (ipykernel)",
   "language": "python",
   "name": "python3"
  },
  "language_info": {
   "codemirror_mode": {
    "name": "ipython",
    "version": 3
   },
   "file_extension": ".py",
   "mimetype": "text/x-python",
   "name": "python",
   "nbconvert_exporter": "python",
   "pygments_lexer": "ipython3",
   "version": "3.10.6"
  }
 },
 "nbformat": 4,
 "nbformat_minor": 5
}
