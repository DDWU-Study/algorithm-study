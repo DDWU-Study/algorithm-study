{
 "cells": [
  {
   "cell_type": "code",
   "execution_count": 1,
   "id": "ae181e60",
   "metadata": {},
   "outputs": [],
   "source": [
    "strings = [\"sun\", \"bed\", \"car\"]\n",
    "n = 1"
   ]
  },
  {
   "cell_type": "code",
   "execution_count": 2,
   "id": "868bc34c",
   "metadata": {},
   "outputs": [],
   "source": [
    "s_dict = dict()\n",
    "for i in strings:\n",
    "    s_dict[i] = i[n] "
   ]
  },
  {
   "cell_type": "code",
   "execution_count": 3,
   "id": "d142cf02",
   "metadata": {},
   "outputs": [
    {
     "name": "stdout",
     "output_type": "stream",
     "text": [
      "{'sun': 'u', 'bed': 'e', 'car': 'a'}\n",
      "{'bed': 'e', 'car': 'a', 'sun': 'u'}\n"
     ]
    }
   ],
   "source": [
    "print(s_dict)\n",
    "sort1 = dict()\n",
    "sort1 = dict(sorted(s_dict.items()))\n",
    "print(sort1)"
   ]
  },
  {
   "cell_type": "code",
   "execution_count": 4,
   "id": "83fbbb6e",
   "metadata": {},
   "outputs": [
    {
     "name": "stdout",
     "output_type": "stream",
     "text": [
      "{'car': 'a', 'bed': 'e', 'sun': 'u'}\n",
      "['car', 'bed', 'sun']\n"
     ]
    }
   ],
   "source": [
    "sorted_s_dict = dict(sorted(sort1.items(), key=lambda x:x[1]))\n",
    "print(sorted_s_dict)\n",
    "\n",
    "answer = []\n",
    "for i in sorted_s_dict.keys():\n",
    "    answer.append(i)\n",
    "    \n",
    "print(answer)"
   ]
  },
  {
   "cell_type": "code",
   "execution_count": null,
   "id": "1fa73048",
   "metadata": {},
   "outputs": [],
   "source": []
  },
  {
   "cell_type": "code",
   "execution_count": 5,
   "id": "3b6b4852",
   "metadata": {},
   "outputs": [
    {
     "data": {
      "text/plain": [
       "['car', 'bed', 'sun']"
      ]
     },
     "execution_count": 5,
     "metadata": {},
     "output_type": "execute_result"
    }
   ],
   "source": [
    "def solution(strings, n):\n",
    "    return sorted(strings, key=lambda x: (x[n], x))\n",
    "solution(strings, n)"
   ]
  },
  {
   "cell_type": "code",
   "execution_count": null,
   "id": "4b9a8c7a",
   "metadata": {},
   "outputs": [],
   "source": []
  }
 ],
 "metadata": {
  "kernelspec": {
   "display_name": "Python 3 (ipykernel)",
   "language": "python",
   "name": "python3"
  },
  "language_info": {
   "codemirror_mode": {
    "name": "ipython",
    "version": 3
   },
   "file_extension": ".py",
   "mimetype": "text/x-python",
   "name": "python",
   "nbconvert_exporter": "python",
   "pygments_lexer": "ipython3",
   "version": "3.10.6"
  }
 },
 "nbformat": 4,
 "nbformat_minor": 5
}
