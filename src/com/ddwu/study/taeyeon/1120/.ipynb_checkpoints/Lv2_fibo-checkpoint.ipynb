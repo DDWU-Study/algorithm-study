{
 "cells": [
  {
   "cell_type": "code",
   "execution_count": 1,
   "id": "408fcebe",
   "metadata": {},
   "outputs": [],
   "source": [
    "n = 3"
   ]
  },
  {
   "cell_type": "code",
   "execution_count": 2,
   "id": "57f259ba",
   "metadata": {},
   "outputs": [
    {
     "name": "stdout",
     "output_type": "stream",
     "text": [
      "2\n",
      "2\n"
     ]
    }
   ],
   "source": [
    "def fibonacci(n):\n",
    "    if n <= 1:\n",
    "        return n\n",
    "    return fibonacci(n-1) + fibonacci(n-2)\n",
    "\n",
    "print(fibonacci(n))\n",
    "print(fibonacci(n) % 1234567)"
   ]
  },
  {
   "cell_type": "code",
   "execution_count": null,
   "id": "de20b780",
   "metadata": {},
   "outputs": [],
   "source": []
  },
  {
   "cell_type": "code",
   "execution_count": 3,
   "id": "95864178",
   "metadata": {},
   "outputs": [
    {
     "name": "stdout",
     "output_type": "stream",
     "text": [
      "2\n",
      "2\n"
     ]
    }
   ],
   "source": [
    "def fibo(n):\n",
    "    memo = [0] * (n + 1)\n",
    "    memo[1] = 1\n",
    "    if n >= 2:\n",
    "        memo[2] = 1\n",
    "\n",
    "    return __fibo(n, memo)\n",
    "\n",
    "\n",
    "def __fibo(n, memo):\n",
    "    if memo[n] > 0:  # 이미 호출된 적이 있어서 memo에 담아두었으면\n",
    "        return memo[n]\n",
    "    else:\n",
    "        res = __fibo(n - 1, memo) + __fibo(n - 2, memo)\n",
    "        memo[n] = res\n",
    "        return res\n",
    "\n",
    "print(fibo(n))\n",
    "print(fibo(n) % 1234567)"
   ]
  },
  {
   "cell_type": "code",
   "execution_count": null,
   "id": "f17d1fa4",
   "metadata": {},
   "outputs": [],
   "source": []
  },
  {
   "cell_type": "code",
   "execution_count": 4,
   "id": "ab41fb74",
   "metadata": {},
   "outputs": [
    {
     "name": "stdout",
     "output_type": "stream",
     "text": [
      "2\n"
     ]
    }
   ],
   "source": [
    "def solution(n):\n",
    "    fib = [0, 1, 1]\n",
    "    for i in range(3, n + 1):\n",
    "        fib.append((fib[i-2] + fib[i-1]) % 1234567)\n",
    "    \n",
    "    return fib[-1]\n",
    "print(solution(n))"
   ]
  },
  {
   "cell_type": "code",
   "execution_count": null,
   "id": "65010a7e",
   "metadata": {},
   "outputs": [],
   "source": []
  }
 ],
 "metadata": {
  "kernelspec": {
   "display_name": "Python 3 (ipykernel)",
   "language": "python",
   "name": "python3"
  },
  "language_info": {
   "codemirror_mode": {
    "name": "ipython",
    "version": 3
   },
   "file_extension": ".py",
   "mimetype": "text/x-python",
   "name": "python",
   "nbconvert_exporter": "python",
   "pygments_lexer": "ipython3",
   "version": "3.10.6"
  }
 },
 "nbformat": 4,
 "nbformat_minor": 5
}
