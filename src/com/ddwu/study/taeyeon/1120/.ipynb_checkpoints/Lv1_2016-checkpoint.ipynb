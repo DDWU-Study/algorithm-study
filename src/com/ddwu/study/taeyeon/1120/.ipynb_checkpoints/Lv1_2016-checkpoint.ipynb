{
 "cells": [
  {
   "cell_type": "code",
   "execution_count": 1,
   "id": "549c1e27",
   "metadata": {},
   "outputs": [],
   "source": [
    "a = 5\n",
    "b = 24"
   ]
  },
  {
   "cell_type": "code",
   "execution_count": 2,
   "id": "c26a6f1e",
   "metadata": {},
   "outputs": [
    {
     "name": "stdout",
     "output_type": "stream",
     "text": [
      "TUE\n"
     ]
    }
   ],
   "source": [
    "answer = 0\n",
    "# DAY = [\"SUN\", \"MON\", \"TUE\", \"WED\", \"THU\", \"FRI\", \"SAT\"]\n",
    "DAY = [\"FRI\", \"SAT\", \"SUN\", \"MON\", \"TUE\", \"WED\", \"THU\"]\n",
    "MONTH = [31, 29, 31, 30, 31, 30, 31, 31, 30, 31, 30, 31]\n",
    "\n",
    "for i in range(a-1):\n",
    "    answer += MONTH[i]\n",
    "\n",
    "answer += b - 1\n",
    "answer = answer % 7\n",
    "\n",
    "print(DAY[answer])\n"
   ]
  },
  {
   "cell_type": "code",
   "execution_count": null,
   "id": "7cd91971",
   "metadata": {},
   "outputs": [],
   "source": []
  }
 ],
 "metadata": {
  "kernelspec": {
   "display_name": "Python 3 (ipykernel)",
   "language": "python",
   "name": "python3"
  },
  "language_info": {
   "codemirror_mode": {
    "name": "ipython",
    "version": 3
   },
   "file_extension": ".py",
   "mimetype": "text/x-python",
   "name": "python",
   "nbconvert_exporter": "python",
   "pygments_lexer": "ipython3",
   "version": "3.10.6"
  }
 },
 "nbformat": 4,
 "nbformat_minor": 5
}
