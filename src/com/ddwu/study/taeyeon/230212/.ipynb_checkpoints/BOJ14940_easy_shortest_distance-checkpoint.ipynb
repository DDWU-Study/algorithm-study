{
 "cells": [
  {
   "cell_type": "code",
   "execution_count": null,
   "id": "cd9ee535",
   "metadata": {},
   "outputs": [],
   "source": [
    "from collections import deque\n",
    "import sys\n",
    "input = sys.stdin.readline\n",
    "\n",
    "# 입력\n",
    "N, M = map(int, input().split())\n",
    "board = []\n",
    "queue = deque([])\n",
    "visit = [[False]*M for _ in range(N)]\n",
    "res = [[-1]*M for _ in range(N)]\n",
    "\n",
    "for i in range(N):\n",
    "    row = list(map(int, input().split()))\n",
    "\n",
    "    for j in range(M):\n",
    "        # 목표지점 찾기\n",
    "        if row[j] == 2:\n",
    "            queue.append((i, j))\n",
    "            visit[i][j] = True\n",
    "            res[i][j] = 0\n",
    "\n",
    "        # 벽 기록\n",
    "        if row[j] == 0:\n",
    "            res[i][j] = 0\n",
    "    board.append(row)\n",
    "\n",
    "\n",
    "\n"
   ]
  }
 ],
 "metadata": {
  "kernelspec": {
   "display_name": "Python 3 (ipykernel)",
   "language": "python",
   "name": "python3"
  },
  "language_info": {
   "codemirror_mode": {
    "name": "ipython",
    "version": 3
   },
   "file_extension": ".py",
   "mimetype": "text/x-python",
   "name": "python",
   "nbconvert_exporter": "python",
   "pygments_lexer": "ipython3",
   "version": "3.10.6"
  }
 },
 "nbformat": 4,
 "nbformat_minor": 5
}
