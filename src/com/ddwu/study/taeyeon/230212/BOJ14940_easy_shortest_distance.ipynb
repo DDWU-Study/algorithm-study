{
 "cells": [
  {
   "cell_type": "code",
   "execution_count": null,
   "id": "1fe9e786",
   "metadata": {},
   "outputs": [],
   "source": [
    "import sys\n",
    "input = sys.stdin.readline\n",
    "\n",
    "N, M = map(int, input().split())"
   ]
  },
  {
   "cell_type": "code",
   "execution_count": 2,
   "id": "dcead5ac",
   "metadata": {},
   "outputs": [],
   "source": [
    "N, M = 15, 15"
   ]
  },
  {
   "cell_type": "code",
   "execution_count": 3,
   "id": "b2b7cdda",
   "metadata": {},
   "outputs": [
    {
     "name": "stdout",
     "output_type": "stream",
     "text": [
      "2 1 1 1 1 1 1 1 1 1 1 1 1 1 1\n",
      "1 1 1 1 1 1 1 1 1 1 1 1 1 1 1\n",
      "1 1 1 1 1 1 1 1 1 1 1 1 1 1 1\n",
      "1 1 1 1 1 1 1 1 1 1 1 1 1 1 1\n",
      "1 1 1 1 1 1 1 1 1 1 1 1 1 1 1\n",
      "1 1 1 1 1 1 1 1 1 1 1 1 1 1 1\n",
      "1 1 1 1 1 1 1 1 1 1 1 1 1 1 1\n",
      "1 1 1 1 1 1 1 1 1 1 1 1 1 1 1\n",
      "1 1 1 1 1 1 1 1 1 1 1 1 1 1 1\n",
      "1 1 1 1 1 1 1 1 1 1 1 1 1 1 1\n",
      "1 1 1 1 1 1 1 1 1 1 1 1 1 1 1\n",
      "1 1 1 1 1 1 1 1 1 1 0 0 0 0 1\n",
      "1 1 1 1 1 1 1 1 1 1 0 1 1 1 1\n",
      "1 1 1 1 1 1 1 1 1 1 0 1 0 0 0\n",
      "1 1 1 1 1 1 1 1 1 1 0 1 1 1 1\n",
      "0 1 2 3 4 5 6 7 8 9 10 11 12 13 14 \n",
      "1 2 3 4 5 6 7 8 9 10 11 12 13 14 15 \n",
      "2 3 4 5 6 7 8 9 10 11 12 13 14 15 16 \n",
      "3 4 5 6 7 8 9 10 11 12 13 14 15 16 17 \n",
      "4 5 6 7 8 9 10 11 12 13 14 15 16 17 18 \n",
      "5 6 7 8 9 10 11 12 13 14 15 16 17 18 19 \n",
      "6 7 8 9 10 11 12 13 14 15 16 17 18 19 20 \n",
      "7 8 9 10 11 12 13 14 15 16 17 18 19 20 21 \n",
      "8 9 10 11 12 13 14 15 16 17 18 19 20 21 22 \n",
      "9 10 11 12 13 14 15 16 17 18 19 20 21 22 23 \n",
      "10 11 12 13 14 15 16 17 18 19 20 21 22 23 24 \n",
      "11 12 13 14 15 16 17 18 19 20 0 0 0 0 25 \n",
      "12 13 14 15 16 17 18 19 20 21 0 29 28 27 26 \n",
      "13 14 15 16 17 18 19 20 21 22 0 30 0 0 0 \n",
      "14 15 16 17 18 19 20 21 22 23 0 31 32 33 34 \n"
     ]
    }
   ],
   "source": [
    "from collections import deque\n",
    "# import sys\n",
    "# input = sys.stdin.readline\n",
    "\n",
    "# 입력\n",
    "# N, M = map(int, input().split())\n",
    "board = []\n",
    "queue = deque([])\n",
    "visit = [[False]*M for _ in range(N)]\n",
    "res = [[-1]*M for _ in range(N)]\n",
    "\n",
    "for i in range(N):\n",
    "    row = list(map(int, input().split()))\n",
    "\n",
    "    for j in range(M):\n",
    "        # 목표지점 찾기\n",
    "        if row[j] == 2:\n",
    "            queue.append((i, j))\n",
    "            visit[i][j] = True\n",
    "            res[i][j] = 0\n",
    "\n",
    "        # 벽 기록\n",
    "        if row[j] == 0:\n",
    "            res[i][j] = 0\n",
    "    board.append(row)\n",
    "\n",
    "# BFS 탐색\n",
    "direction = [(1, 0), (-1, 0), (0, 1), (0, -1)]  # 상하좌우\n",
    "while queue:\n",
    "    x, y = queue.popleft()\n",
    "\n",
    "    for dx, dy in direction:\n",
    "        nx, ny = x+dx, y+dy\n",
    "\n",
    "        if 0 <= nx < N and 0 <= ny < M and not visit[nx][ny] and board[nx][ny] == 1:\n",
    "            queue.append((nx, ny))\n",
    "            visit[nx][ny] = True\n",
    "            res[nx][ny] = res[x][y] + 1\n",
    "\n",
    "# 출력\n",
    "for row in res:\n",
    "    for i in row:\n",
    "        print(i, end=\" \")\n",
    "    print()"
   ]
  },
  {
   "cell_type": "code",
   "execution_count": null,
   "id": "e4431e1c",
   "metadata": {},
   "outputs": [],
   "source": []
  }
 ],
 "metadata": {
  "kernelspec": {
   "display_name": "Python 3 (ipykernel)",
   "language": "python",
   "name": "python3"
  },
  "language_info": {
   "codemirror_mode": {
    "name": "ipython",
    "version": 3
   },
   "file_extension": ".py",
   "mimetype": "text/x-python",
   "name": "python",
   "nbconvert_exporter": "python",
   "pygments_lexer": "ipython3",
   "version": "3.10.6"
  }
 },
 "nbformat": 4,
 "nbformat_minor": 5
}
