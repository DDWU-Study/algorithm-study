{
 "cells": [
  {
   "cell_type": "code",
   "execution_count": 14,
   "id": "9bbad11e",
   "metadata": {},
   "outputs": [
    {
     "name": "stdout",
     "output_type": "stream",
     "text": [
      "8\n",
      "1 6 2 5 7 3 5 6\n"
     ]
    }
   ],
   "source": [
    "n = int(input())\n",
    "boxs = list(map(int,input().split()))"
   ]
  },
  {
   "cell_type": "code",
   "execution_count": 16,
   "id": "431e9f81",
   "metadata": {},
   "outputs": [
    {
     "name": "stdout",
     "output_type": "stream",
     "text": [
      "5\n"
     ]
    }
   ],
   "source": [
    "dp = []\n",
    "dp.append(1)\n",
    "for i in range(1, n):\n",
    "    d = []\n",
    "    for j in range(i):\n",
    "        if boxs[i] > boxs[j]:\n",
    "            d.append(dp[j] + 1)\n",
    "    if not d:\n",
    "        dp.append(1)\n",
    "    else:\n",
    "        dp.append(max(d))\n",
    "print(max(dp))"
   ]
  },
  {
   "cell_type": "code",
   "execution_count": null,
   "id": "06016dbc",
   "metadata": {},
   "outputs": [],
   "source": []
  }
 ],
 "metadata": {
  "kernelspec": {
   "display_name": "Python 3 (ipykernel)",
   "language": "python",
   "name": "python3"
  },
  "language_info": {
   "codemirror_mode": {
    "name": "ipython",
    "version": 3
   },
   "file_extension": ".py",
   "mimetype": "text/x-python",
   "name": "python",
   "nbconvert_exporter": "python",
   "pygments_lexer": "ipython3",
   "version": "3.10.6"
  }
 },
 "nbformat": 4,
 "nbformat_minor": 5
}
