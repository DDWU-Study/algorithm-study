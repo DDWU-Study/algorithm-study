{
 "cells": [
  {
   "cell_type": "code",
   "execution_count": 5,
   "id": "d7b48868",
   "metadata": {},
   "outputs": [],
   "source": [
    "n1 = 3\n",
    "computers1 = [[1, 1, 0], [1, 1, 0], [0, 0, 1]]\n",
    "\n",
    "n2 = 3\n",
    "computers2 = [[1, 1, 0], [1, 1, 1], [0, 1, 1]]"
   ]
  },
  {
   "cell_type": "code",
   "execution_count": 6,
   "id": "a3a22970",
   "metadata": {},
   "outputs": [],
   "source": [
    "def solution(n, computers):\n",
    "    answer = 0\n",
    "    visited = [False for i in range(n)]\n",
    "    for com in range(n):\n",
    "        if visited[com] == False:\n",
    "            DFS(n, computers, com, visited)\n",
    "            answer += 1 #DFS로 최대한 컴퓨터들을 방문하고 빠져나오게 되면 그것이 하나의 네트워크.\n",
    "    return answer\n",
    "\n",
    "def DFS(n, computers, com, visited):\n",
    "    visited[com] = True\n",
    "    for connect in range(n):\n",
    "        if connect != com and computers[com][connect] == 1: #연결된 컴퓨터\n",
    "            if visited[connect] == False:\n",
    "                DFS(n, computers, connect, visited)"
   ]
  },
  {
   "cell_type": "code",
   "execution_count": 7,
   "id": "37cb8491",
   "metadata": {},
   "outputs": [
    {
     "data": {
      "text/plain": [
       "2"
      ]
     },
     "execution_count": 7,
     "metadata": {},
     "output_type": "execute_result"
    }
   ],
   "source": [
    "solution(n1, computers1)"
   ]
  },
  {
   "cell_type": "code",
   "execution_count": 8,
   "id": "0356140e",
   "metadata": {},
   "outputs": [
    {
     "data": {
      "text/plain": [
       "1"
      ]
     },
     "execution_count": 8,
     "metadata": {},
     "output_type": "execute_result"
    }
   ],
   "source": [
    "solution(n2, computers2)"
   ]
  },
  {
   "cell_type": "code",
   "execution_count": null,
   "id": "47d0c4f3",
   "metadata": {},
   "outputs": [],
   "source": []
  }
 ],
 "metadata": {
  "kernelspec": {
   "display_name": "Python 3 (ipykernel)",
   "language": "python",
   "name": "python3"
  },
  "language_info": {
   "codemirror_mode": {
    "name": "ipython",
    "version": 3
   },
   "file_extension": ".py",
   "mimetype": "text/x-python",
   "name": "python",
   "nbconvert_exporter": "python",
   "pygments_lexer": "ipython3",
   "version": "3.10.6"
  }
 },
 "nbformat": 4,
 "nbformat_minor": 5
}
