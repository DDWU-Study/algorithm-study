{
 "cells": [
  {
   "cell_type": "code",
   "execution_count": 31,
   "id": "ce4c429a",
   "metadata": {},
   "outputs": [],
   "source": [
    "array = [1, 5, 2, 6, 3, 7, 4]\n",
    "commands = [[2, 5, 3], [4, 4, 1], [1, 7, 3]]"
   ]
  },
  {
   "cell_type": "code",
   "execution_count": 53,
   "id": "18d9e64f",
   "metadata": {},
   "outputs": [],
   "source": [
    "answer = []\n",
    "tmp = []\n",
    "j = 0\n",
    "for i in commands:\n",
    "    tmp.append(sorted(array[i[0]-1:i[1]]))\n",
    "    answer.append(tmp[j][i[2]-1])\n",
    "    j += 1"
   ]
  },
  {
   "cell_type": "code",
   "execution_count": 54,
   "id": "247bb17d",
   "metadata": {},
   "outputs": [
    {
     "name": "stdout",
     "output_type": "stream",
     "text": [
      "[5, 6, 3]\n"
     ]
    }
   ],
   "source": [
    "print(answer)"
   ]
  }
 ],
 "metadata": {
  "kernelspec": {
   "display_name": "Python 3 (ipykernel)",
   "language": "python",
   "name": "python3"
  },
  "language_info": {
   "codemirror_mode": {
    "name": "ipython",
    "version": 3
   },
   "file_extension": ".py",
   "mimetype": "text/x-python",
   "name": "python",
   "nbconvert_exporter": "python",
   "pygments_lexer": "ipython3",
   "version": "3.10.6"
  }
 },
 "nbformat": 4,
 "nbformat_minor": 5
}
