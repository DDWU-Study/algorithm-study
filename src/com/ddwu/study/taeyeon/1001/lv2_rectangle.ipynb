{
 "cells": [
  {
   "cell_type": "code",
   "execution_count": 7,
   "id": "05afb54c",
   "metadata": {},
   "outputs": [],
   "source": [
    "w = 8\n",
    "h = 12"
   ]
  },
  {
   "cell_type": "code",
   "execution_count": 9,
   "id": "cd35a6d7",
   "metadata": {},
   "outputs": [
    {
     "name": "stdout",
     "output_type": "stream",
     "text": [
      "80\n"
     ]
    }
   ],
   "source": [
    "# https://leedakyeong.tistory.com/135#comment16270807\n",
    "import math\n",
    "print(w*h - (w+h-math.gcd(w,h)))"
   ]
  },
  {
   "cell_type": "code",
   "execution_count": null,
   "id": "55f63932",
   "metadata": {},
   "outputs": [],
   "source": []
  }
 ],
 "metadata": {
  "kernelspec": {
   "display_name": "Python 3 (ipykernel)",
   "language": "python",
   "name": "python3"
  },
  "language_info": {
   "codemirror_mode": {
    "name": "ipython",
    "version": 3
   },
   "file_extension": ".py",
   "mimetype": "text/x-python",
   "name": "python",
   "nbconvert_exporter": "python",
   "pygments_lexer": "ipython3",
   "version": "3.10.6"
  }
 },
 "nbformat": 4,
 "nbformat_minor": 5
}
