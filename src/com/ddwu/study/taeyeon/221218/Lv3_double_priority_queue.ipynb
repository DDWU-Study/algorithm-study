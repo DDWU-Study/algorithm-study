{
 "cells": [
  {
   "cell_type": "code",
   "execution_count": 41,
   "id": "c23024b8",
   "metadata": {},
   "outputs": [],
   "source": [
    "operations1 = [\"I 16\", \"I -5643\", \"D -1\", \"D 1\", \"D 1\", \"I 123\", \"D -1\"]\n",
    "operations2 = [\"I -45\", \"I 653\", \"D 1\", \"I -642\", \"I 45\", \"I 97\", \"D 1\", \"D -1\", \"I 333\"]\n",
    "operations3 = [\"I 3\", \"I 2\", \"I 1\", \"D 1\", \"D 1\", \"I 3\", \"D -1\"]"
   ]
  },
  {
   "cell_type": "code",
   "execution_count": 46,
   "id": "7a0aafc5",
   "metadata": {},
   "outputs": [
    {
     "name": "stdout",
     "output_type": "stream",
     "text": [
      "['I 16', 'I -5643', 'D -1', 'D 1', 'D 1', 'I 123', 'D -1'] \n",
      "\n",
      "[16]\n",
      "[16, -5643]\n",
      "[16]\n",
      "[]\n",
      "[]\n",
      "[123]\n",
      "[]\n",
      "[0, 0]\n"
     ]
    }
   ],
   "source": [
    "def solution(operations):\n",
    "    print(operations, \"\\n\")\n",
    "    ph = list()\n",
    "    \n",
    "    for op in operations:\n",
    "        if op[0] == 'I':\n",
    "            ph.append(int(op[2:]))\n",
    "            \n",
    "        elif op[0] == 'D' and ph != []:\n",
    "            if op[2] == '-':\n",
    "#                 print(\"min: \", min(ph))\n",
    "                ph.remove(min(ph))\n",
    "            else:\n",
    "#                 print(\"max: \", max(ph))\n",
    "                ph.remove(max(ph))\n",
    "        print(ph)\n",
    "    \n",
    "    if ph == []:\n",
    "        return [0, 0]\n",
    "    else:\n",
    "        return [max(ph), min(ph)]\n",
    "\n",
    "operations1 = [\"I 16\", \"I -5643\", \"D -1\", \"D 1\", \"D 1\", \"I 123\", \"D -1\"]    \n",
    "print(solution(operations1))"
   ]
  },
  {
   "cell_type": "code",
   "execution_count": 47,
   "id": "724cde5e",
   "metadata": {},
   "outputs": [
    {
     "name": "stdout",
     "output_type": "stream",
     "text": [
      "['I -45', 'I 653', 'D 1', 'I -642', 'I 45', 'I 97', 'D 1', 'D -1', 'I 333'] \n",
      "\n",
      "[-45]\n",
      "[-45, 653]\n",
      "[-45]\n",
      "[-45, -642]\n",
      "[-45, -642, 45]\n",
      "[-45, -642, 45, 97]\n",
      "[-45, -642, 45]\n",
      "[-45, 45]\n",
      "[-45, 45, 333]\n",
      "[333, -45]\n"
     ]
    }
   ],
   "source": [
    "operations2 = [\"I -45\", \"I 653\", \"D 1\", \"I -642\", \"I 45\", \"I 97\", \"D 1\", \"D -1\", \"I 333\"]\n",
    "print(solution(operations2))"
   ]
  },
  {
   "cell_type": "code",
   "execution_count": 48,
   "id": "71a8bf44",
   "metadata": {},
   "outputs": [
    {
     "name": "stdout",
     "output_type": "stream",
     "text": [
      "['I 3', 'I 2', 'I 1', 'D 1', 'D 1', 'I 3', 'D -1'] \n",
      "\n",
      "[3]\n",
      "[3, 2]\n",
      "[3, 2, 1]\n",
      "[2, 1]\n",
      "[1]\n",
      "[1, 3]\n",
      "[3]\n",
      "[3, 3]\n"
     ]
    }
   ],
   "source": [
    "operations3 = [\"I 3\", \"I 2\", \"I 1\", \"D 1\", \"D 1\", \"I 3\", \"D -1\"]\n",
    "print(solution(operations3))"
   ]
  },
  {
   "cell_type": "code",
   "execution_count": null,
   "id": "44d4dc87",
   "metadata": {},
   "outputs": [],
   "source": []
  },
  {
   "cell_type": "code",
   "execution_count": null,
   "id": "2d4cf487",
   "metadata": {},
   "outputs": [],
   "source": []
  },
  {
   "cell_type": "code",
   "execution_count": null,
   "id": "ad263a3a",
   "metadata": {},
   "outputs": [],
   "source": []
  }
 ],
 "metadata": {
  "kernelspec": {
   "display_name": "Python 3 (ipykernel)",
   "language": "python",
   "name": "python3"
  },
  "language_info": {
   "codemirror_mode": {
    "name": "ipython",
    "version": 3
   },
   "file_extension": ".py",
   "mimetype": "text/x-python",
   "name": "python",
   "nbconvert_exporter": "python",
   "pygments_lexer": "ipython3",
   "version": "3.10.6"
  }
 },
 "nbformat": 4,
 "nbformat_minor": 5
}
