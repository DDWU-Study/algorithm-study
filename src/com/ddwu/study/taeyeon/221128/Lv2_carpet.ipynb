{
 "cells": [
  {
   "cell_type": "code",
   "execution_count": 1,
   "id": "934131ac",
   "metadata": {},
   "outputs": [],
   "source": [
    "def solution(brown, yellow):\n",
    "    answer = []\n",
    "    total = brown + yellow                  # a * b = total\n",
    "    for b in range(1,total+1):\n",
    "        if (total / b) % 1 == 0:            # total / b = a\n",
    "            a = total / b\n",
    "            if a >= b:                      # a >= b\n",
    "                if 2*a + 2*b == brown + 4:  # 2*a + 2*b = brown + 4 \n",
    "                    return [a,b]\n",
    "            \n",
    "    return answer"
   ]
  },
  {
   "cell_type": "code",
   "execution_count": 2,
   "id": "e8235f14",
   "metadata": {},
   "outputs": [
    {
     "name": "stdout",
     "output_type": "stream",
     "text": [
      "[4.0, 3]\n"
     ]
    }
   ],
   "source": [
    "print(solution(10, 2))"
   ]
  },
  {
   "cell_type": "code",
   "execution_count": null,
   "id": "78568c65",
   "metadata": {},
   "outputs": [],
   "source": []
  }
 ],
 "metadata": {
  "kernelspec": {
   "display_name": "Python 3 (ipykernel)",
   "language": "python",
   "name": "python3"
  },
  "language_info": {
   "codemirror_mode": {
    "name": "ipython",
    "version": 3
   },
   "file_extension": ".py",
   "mimetype": "text/x-python",
   "name": "python",
   "nbconvert_exporter": "python",
   "pygments_lexer": "ipython3",
   "version": "3.10.6"
  }
 },
 "nbformat": 4,
 "nbformat_minor": 5
}
