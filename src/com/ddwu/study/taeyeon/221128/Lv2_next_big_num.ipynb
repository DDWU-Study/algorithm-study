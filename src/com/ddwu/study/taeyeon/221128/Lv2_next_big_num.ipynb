{
 "cells": [
  {
   "cell_type": "code",
   "execution_count": 3,
   "id": "1aa0c0c8",
   "metadata": {},
   "outputs": [],
   "source": [
    "def solution(n):\n",
    "    c = bin(n).count('1')\n",
    "    for m in range(n+1,1000001):\n",
    "        if bin(m).count('1') == c:\n",
    "            return m"
   ]
  },
  {
   "cell_type": "code",
   "execution_count": 4,
   "id": "a4180311",
   "metadata": {},
   "outputs": [
    {
     "name": "stdout",
     "output_type": "stream",
     "text": [
      "83\n"
     ]
    }
   ],
   "source": [
    "print(solution(78))"
   ]
  },
  {
   "cell_type": "code",
   "execution_count": null,
   "id": "9eb745a8",
   "metadata": {},
   "outputs": [],
   "source": []
  }
 ],
 "metadata": {
  "kernelspec": {
   "display_name": "Python 3 (ipykernel)",
   "language": "python",
   "name": "python3"
  },
  "language_info": {
   "codemirror_mode": {
    "name": "ipython",
    "version": 3
   },
   "file_extension": ".py",
   "mimetype": "text/x-python",
   "name": "python",
   "nbconvert_exporter": "python",
   "pygments_lexer": "ipython3",
   "version": "3.10.6"
  }
 },
 "nbformat": 4,
 "nbformat_minor": 5
}
