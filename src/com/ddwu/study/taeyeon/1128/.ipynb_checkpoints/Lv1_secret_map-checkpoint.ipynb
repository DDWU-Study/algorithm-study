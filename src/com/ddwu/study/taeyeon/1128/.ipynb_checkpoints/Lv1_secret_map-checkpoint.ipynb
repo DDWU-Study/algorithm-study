{
 "cells": [
  {
   "cell_type": "code",
   "execution_count": 1,
   "id": "385ef6c0",
   "metadata": {},
   "outputs": [],
   "source": [
    "def solution(n, arr1, arr2):\n",
    "    answer = []\n",
    "    \n",
    "    for i in range(n):\n",
    "        tmp = bin(arr1[i] | arr2[i])\n",
    "        # tmp결과 ex) '0b1101'\n",
    "        tmp = tmp[2:].zfill(n)\n",
    "        # tmp결과 ex) '01101'\n",
    "        tmp = tmp.replace('1','#').replace('0',' ')\n",
    "        # tmp결과 ex) ' ## #'\n",
    "        answer.append(tmp)\n",
    "    \n",
    "    return answer"
   ]
  },
  {
   "cell_type": "code",
   "execution_count": 2,
   "id": "83a1cb08",
   "metadata": {},
   "outputs": [
    {
     "name": "stdout",
     "output_type": "stream",
     "text": [
      "['#####', '# # #', '### #', '#  ##', '#####']\n"
     ]
    }
   ],
   "source": [
    "print(solution(5, [9, 20, 28, 18, 11], [30, 1, 21, 17, 28]))"
   ]
  },
  {
   "cell_type": "code",
   "execution_count": null,
   "id": "33858e1a",
   "metadata": {},
   "outputs": [],
   "source": []
  }
 ],
 "metadata": {
  "kernelspec": {
   "display_name": "Python 3 (ipykernel)",
   "language": "python",
   "name": "python3"
  },
  "language_info": {
   "codemirror_mode": {
    "name": "ipython",
    "version": 3
   },
   "file_extension": ".py",
   "mimetype": "text/x-python",
   "name": "python",
   "nbconvert_exporter": "python",
   "pygments_lexer": "ipython3",
   "version": "3.10.6"
  }
 },
 "nbformat": 4,
 "nbformat_minor": 5
}
