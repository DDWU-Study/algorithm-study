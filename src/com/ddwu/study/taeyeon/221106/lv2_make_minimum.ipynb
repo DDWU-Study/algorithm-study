{
 "cells": [
  {
   "cell_type": "code",
   "execution_count": 1,
   "id": "88da9032",
   "metadata": {},
   "outputs": [],
   "source": [
    "A = [1, 4, 2]\n",
    "B = [5, 4, 4]"
   ]
  },
  {
   "cell_type": "code",
   "execution_count": null,
   "id": "b01ee559",
   "metadata": {},
   "outputs": [],
   "source": [
    "#시간초과 실패\n",
    "\n",
    "# print(max(A))\n",
    "# print(max(B))\n",
    "# sum = 0\n",
    "# for i in range(len(A)):\n",
    "#     print(max(A), min(B), max(A)*min(B))\n",
    "#     sum += max(A)*min(B)\n",
    "#     A.remove(max(A))\n",
    "#     B.remove(min(B))\n",
    "    \n",
    "# print(sum)"
   ]
  },
  {
   "cell_type": "code",
   "execution_count": 2,
   "id": "d9ff3d1a",
   "metadata": {},
   "outputs": [
    {
     "name": "stdout",
     "output_type": "stream",
     "text": [
      "29\n"
     ]
    }
   ],
   "source": [
    "sum = 0\n",
    "A.sort(reverse=True)\n",
    "B.sort()\n",
    "\n",
    "for i in range(len(A)):\n",
    "    sum += A.pop() * B.pop()\n",
    "\n",
    "print(sum)"
   ]
  },
  {
   "cell_type": "code",
   "execution_count": null,
   "id": "00ff635b",
   "metadata": {},
   "outputs": [],
   "source": []
  }
 ],
 "metadata": {
  "kernelspec": {
   "display_name": "Python 3 (ipykernel)",
   "language": "python",
   "name": "python3"
  },
  "language_info": {
   "codemirror_mode": {
    "name": "ipython",
    "version": 3
   },
   "file_extension": ".py",
   "mimetype": "text/x-python",
   "name": "python",
   "nbconvert_exporter": "python",
   "pygments_lexer": "ipython3",
   "version": "3.10.6"
  }
 },
 "nbformat": 4,
 "nbformat_minor": 5
}
