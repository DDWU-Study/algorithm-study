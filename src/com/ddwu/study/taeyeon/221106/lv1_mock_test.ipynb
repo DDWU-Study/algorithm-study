{
 "cells": [
  {
   "cell_type": "code",
   "execution_count": 1,
   "id": "34fd1801",
   "metadata": {},
   "outputs": [],
   "source": [
    "answers = [1,2,3,4,5,2,3,4,2,5] #a=6, b=1, c=3"
   ]
  },
  {
   "cell_type": "code",
   "execution_count": 2,
   "id": "c8cd3c17",
   "metadata": {},
   "outputs": [],
   "source": [
    "pattern1 = [1,2,3,4,5]\n",
    "pattern2 = [2,1,2,3,2,4,2,5]\n",
    "pattern3 = [3,3,1,1,2,2,4,4,5,5]\n",
    "\n",
    "score = [0,0,0]\n",
    "result = []"
   ]
  },
  {
   "cell_type": "code",
   "execution_count": 3,
   "id": "5e59c273",
   "metadata": {},
   "outputs": [
    {
     "name": "stdout",
     "output_type": "stream",
     "text": [
      "[6, 1, 3]\n"
     ]
    }
   ],
   "source": [
    "for i, answer in enumerate(answers): #인덱스 i에 answers[i]가 튜플 형태로 담겨있게 됨\n",
    "    if answer == pattern1[i%len(pattern1)]: #해당 번호의 답과 1번 학생의 패턴이 일치하는 경우\n",
    "        score[0] += 1\n",
    "    if answer == pattern2[i%len(pattern2)]: #해당 번호의 답과 2번 학생의 패턴이 일치하는 경우\n",
    "        score[1] += 1\n",
    "    if answer == pattern3[i%len(pattern3)]: #해당 번호의 답과 3번 학생의 패턴이 일치하는 경우\n",
    "        score[2] += 1\n",
    "print(score)"
   ]
  },
  {
   "cell_type": "code",
   "execution_count": 4,
   "id": "be3dd873",
   "metadata": {},
   "outputs": [],
   "source": [
    "for i, s in enumerate(score):\n",
    "    if s == max(score):\n",
    "        result.append(i+1)"
   ]
  },
  {
   "cell_type": "code",
   "execution_count": 5,
   "id": "a56d1ef9",
   "metadata": {},
   "outputs": [
    {
     "name": "stdout",
     "output_type": "stream",
     "text": [
      "[1]\n"
     ]
    }
   ],
   "source": [
    "print(result)"
   ]
  },
  {
   "cell_type": "code",
   "execution_count": null,
   "id": "96fb9289",
   "metadata": {},
   "outputs": [],
   "source": []
  }
 ],
 "metadata": {
  "kernelspec": {
   "display_name": "Python 3 (ipykernel)",
   "language": "python",
   "name": "python3"
  },
  "language_info": {
   "codemirror_mode": {
    "name": "ipython",
    "version": 3
   },
   "file_extension": ".py",
   "mimetype": "text/x-python",
   "name": "python",
   "nbconvert_exporter": "python",
   "pygments_lexer": "ipython3",
   "version": "3.10.6"
  }
 },
 "nbformat": 4,
 "nbformat_minor": 5
}
